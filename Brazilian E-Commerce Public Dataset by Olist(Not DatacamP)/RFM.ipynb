{
 "cells": [
  {
   "cell_type": "markdown",
   "metadata": {},
   "source": [
    "This dataset was generously provided by Olist, the largest department store in Brazilian marketplaces. Olist connects small businesses from all over Brazil to channels without hassle and with a single contract. Those merchants are able to sell their products through the Olist Store and ship them directly to the customers using Olist logistics partners. See more on our website: www.olist.com\n",
    "\n",
    "After a customer purchases the product from Olist Store a seller gets notified to fulfill that order. Once the customer receives the product, or the estimated delivery date is due, the customer gets a satisfaction survey by email where he can give a note for the purchase experience and write down some comments.\n",
    "#EDA \n",
    "#RFM Model\n",
    "#More Insights will be updated as data suggests\n",
    "\n",
    "\n"
   ]
  },
  {
   "cell_type": "code",
   "execution_count": 4,
   "metadata": {},
   "outputs": [],
   "source": [
    "#Loading the required libraries:\n",
    "import numpy as np\n",
    "import pandas as pd \n",
    "import matplotlib.pyplot as plt\n",
    "%matplotlib inline \n",
    "import seaborn as sns\n",
    "import datetime as dt\n",
    "import calendar\n",
    "from scipy.stats import skew,kurtosis\n",
    "\n"
   ]
  },
  {
   "cell_type": "code",
   "execution_count": 5,
   "metadata": {},
   "outputs": [],
   "source": [
    "order = pd.read_csv(\"E:\\Kaggle\\olist_public_dataset_v2.csv\")  ## Unclassified orders dataset\n",
    "customer=pd.read_csv(\"E:\\Kaggle\\olist_public_dataset_v2_customers.csv\")  ##Unique customer id \n",
    "payment =pd.read_csv(\"E:\\Kaggle\\payments_olist_public_dataset.csv\")  ##Payment dataset\n",
    "product = pd.read_csv(\"E:\\Kaggle\\product_category_name_translation.csv\")  ## Product translation to english\n",
    "geo=pd.read_csv(\"E:\\Kaggle\\geolocation_olist_public_dataset.csv\")  ## Location data\n",
    "sellers=pd.read_csv(\"E:\\Kaggle\\sellers_olist_public_dataset_.csv\") ## Seller information\n"
   ]
  },
  {
   "cell_type": "code",
   "execution_count": 6,
   "metadata": {},
   "outputs": [
    {
     "data": {
      "text/plain": [
       "(100000, 25)"
      ]
     },
     "execution_count": 6,
     "metadata": {},
     "output_type": "execute_result"
    }
   ],
   "source": [
    "order.shape"
   ]
  },
  {
   "cell_type": "code",
   "execution_count": 7,
   "metadata": {},
   "outputs": [
    {
     "data": {
      "text/plain": [
       "(96264, 2)"
      ]
     },
     "execution_count": 7,
     "metadata": {},
     "output_type": "execute_result"
    }
   ],
   "source": [
    "customer.shape\n"
   ]
  },
  {
   "cell_type": "code",
   "execution_count": 8,
   "metadata": {},
   "outputs": [
    {
     "data": {
      "text/plain": [
       "(97433, 5)"
      ]
     },
     "execution_count": 8,
     "metadata": {},
     "output_type": "execute_result"
    }
   ],
   "source": [
    "payment.shape\n"
   ]
  },
  {
   "cell_type": "code",
   "execution_count": 9,
   "metadata": {},
   "outputs": [
    {
     "data": {
      "text/plain": [
       "(71, 2)"
      ]
     },
     "execution_count": 9,
     "metadata": {},
     "output_type": "execute_result"
    }
   ],
   "source": [
    "product.shape\n"
   ]
  },
  {
   "cell_type": "code",
   "execution_count": 10,
   "metadata": {},
   "outputs": [
    {
     "data": {
      "text/plain": [
       "(323016, 5)"
      ]
     },
     "execution_count": 10,
     "metadata": {},
     "output_type": "execute_result"
    }
   ],
   "source": [
    "geo.shape"
   ]
  },
  {
   "cell_type": "code",
   "execution_count": 11,
   "metadata": {},
   "outputs": [
    {
     "data": {
      "text/plain": [
       "(98981, 6)"
      ]
     },
     "execution_count": 11,
     "metadata": {},
     "output_type": "execute_result"
    }
   ],
   "source": [
    "sellers.shape"
   ]
  },
  {
   "cell_type": "code",
   "execution_count": 12,
   "metadata": {},
   "outputs": [
    {
     "data": {
      "text/html": [
       "<div>\n",
       "<style scoped>\n",
       "    .dataframe tbody tr th:only-of-type {\n",
       "        vertical-align: middle;\n",
       "    }\n",
       "\n",
       "    .dataframe tbody tr th {\n",
       "        vertical-align: top;\n",
       "    }\n",
       "\n",
       "    .dataframe thead th {\n",
       "        text-align: right;\n",
       "    }\n",
       "</style>\n",
       "<table border=\"1\" class=\"dataframe\">\n",
       "  <thead>\n",
       "    <tr style=\"text-align: right;\">\n",
       "      <th></th>\n",
       "      <th>order_id</th>\n",
       "      <th>order_status</th>\n",
       "      <th>order_products_value</th>\n",
       "      <th>order_freight_value</th>\n",
       "      <th>order_items_qty</th>\n",
       "      <th>order_sellers_qty</th>\n",
       "      <th>order_purchase_timestamp</th>\n",
       "      <th>order_aproved_at</th>\n",
       "      <th>order_estimated_delivery_date</th>\n",
       "      <th>order_delivered_customer_date</th>\n",
       "      <th>...</th>\n",
       "      <th>product_name_lenght</th>\n",
       "      <th>product_description_lenght</th>\n",
       "      <th>product_photos_qty</th>\n",
       "      <th>product_id</th>\n",
       "      <th>review_id</th>\n",
       "      <th>review_score</th>\n",
       "      <th>review_comment_title</th>\n",
       "      <th>review_comment_message</th>\n",
       "      <th>review_creation_date</th>\n",
       "      <th>review_answer_timestamp</th>\n",
       "    </tr>\n",
       "  </thead>\n",
       "  <tbody>\n",
       "    <tr>\n",
       "      <th>0</th>\n",
       "      <td>b95df3cef5297e79ef709ba256518f6f</td>\n",
       "      <td>delivered</td>\n",
       "      <td>349.90</td>\n",
       "      <td>13.84</td>\n",
       "      <td>1</td>\n",
       "      <td>1</td>\n",
       "      <td>2017-01-31 17:19:01.000000</td>\n",
       "      <td>2017-02-01 02:41:21.549551</td>\n",
       "      <td>2017-03-15 00:00:00.000000</td>\n",
       "      <td>2017-02-06 11:04:24.154259</td>\n",
       "      <td>...</td>\n",
       "      <td>51</td>\n",
       "      <td>625</td>\n",
       "      <td>1</td>\n",
       "      <td>6cdd53843498f92890544667809f1595</td>\n",
       "      <td>b95df3cef5297e79ef709ba256518f6f</td>\n",
       "      <td>5</td>\n",
       "      <td>NaN</td>\n",
       "      <td>NaN</td>\n",
       "      <td>2017-02-07 00:00:00.000000</td>\n",
       "      <td>2017-02-09 02:37:37+00:00</td>\n",
       "    </tr>\n",
       "    <tr>\n",
       "      <th>1</th>\n",
       "      <td>59af46052a799e80e2f0c665c587731d</td>\n",
       "      <td>delivered</td>\n",
       "      <td>15.00</td>\n",
       "      <td>15.10</td>\n",
       "      <td>1</td>\n",
       "      <td>1</td>\n",
       "      <td>2017-09-09 19:52:54.000000</td>\n",
       "      <td>2017-09-10 20:03:31.535281</td>\n",
       "      <td>2017-10-02 00:00:00.000000</td>\n",
       "      <td>2017-09-13 20:17:41.296915</td>\n",
       "      <td>...</td>\n",
       "      <td>44</td>\n",
       "      <td>1428</td>\n",
       "      <td>2</td>\n",
       "      <td>ae5cad88462eb7b7b61401e31c45618e</td>\n",
       "      <td>59af46052a799e80e2f0c665c587731d</td>\n",
       "      <td>5</td>\n",
       "      <td>NaN</td>\n",
       "      <td>entrega em 2 dias produto c boa qualidade otim...</td>\n",
       "      <td>2017-09-14 00:00:00.000000</td>\n",
       "      <td>2017-09-15 03:43:47+00:00</td>\n",
       "    </tr>\n",
       "    <tr>\n",
       "      <th>2</th>\n",
       "      <td>a3e6136894621db402a772c6bc72a12a</td>\n",
       "      <td>delivered</td>\n",
       "      <td>238.90</td>\n",
       "      <td>18.00</td>\n",
       "      <td>1</td>\n",
       "      <td>1</td>\n",
       "      <td>2017-01-30 17:00:09.000000</td>\n",
       "      <td>2017-01-30 17:31:25.438253</td>\n",
       "      <td>2017-03-07 00:00:00.000000</td>\n",
       "      <td>2017-02-06 15:43:04.758566</td>\n",
       "      <td>...</td>\n",
       "      <td>55</td>\n",
       "      <td>637</td>\n",
       "      <td>1</td>\n",
       "      <td>0c9ff9d8ed9b9bdd825487b3a66e05f5</td>\n",
       "      <td>a3e6136894621db402a772c6bc72a12a</td>\n",
       "      <td>5</td>\n",
       "      <td>NaN</td>\n",
       "      <td>produto veio antes do prazo informado muito ob...</td>\n",
       "      <td>2017-02-07 00:00:00.000000</td>\n",
       "      <td>2017-02-10 14:18:53+00:00</td>\n",
       "    </tr>\n",
       "    <tr>\n",
       "      <th>3</th>\n",
       "      <td>b675ea5a618922f6e679e30531b8957b</td>\n",
       "      <td>delivered</td>\n",
       "      <td>29.99</td>\n",
       "      <td>18.23</td>\n",
       "      <td>1</td>\n",
       "      <td>1</td>\n",
       "      <td>2018-03-11 18:18:36.000000</td>\n",
       "      <td>2018-03-11 18:30:37.931962</td>\n",
       "      <td>2018-04-03 00:00:00.000000</td>\n",
       "      <td>2018-04-03 20:36:43.778451</td>\n",
       "      <td>...</td>\n",
       "      <td>55</td>\n",
       "      <td>617</td>\n",
       "      <td>1</td>\n",
       "      <td>ad0a798e7941f3a5a2fb8139cb62ad78</td>\n",
       "      <td>b675ea5a618922f6e679e30531b8957b</td>\n",
       "      <td>4</td>\n",
       "      <td>NaN</td>\n",
       "      <td>NaN</td>\n",
       "      <td>2018-04-04 00:00:00.000000</td>\n",
       "      <td>2018-04-05 02:52:31+00:00</td>\n",
       "    </tr>\n",
       "    <tr>\n",
       "      <th>4</th>\n",
       "      <td>195a8be6794c487fe6cfbb97b7c61902</td>\n",
       "      <td>delivered</td>\n",
       "      <td>295.99</td>\n",
       "      <td>47.65</td>\n",
       "      <td>1</td>\n",
       "      <td>1</td>\n",
       "      <td>2017-04-20 08:01:08.000000</td>\n",
       "      <td>2017-04-25 08:05:40.405383</td>\n",
       "      <td>2017-05-24 00:00:00.000000</td>\n",
       "      <td>2017-05-04 18:47:45.721758</td>\n",
       "      <td>...</td>\n",
       "      <td>49</td>\n",
       "      <td>558</td>\n",
       "      <td>2</td>\n",
       "      <td>eaf2046d4c87809247a30050ea13df03</td>\n",
       "      <td>195a8be6794c487fe6cfbb97b7c61902</td>\n",
       "      <td>5</td>\n",
       "      <td>NaN</td>\n",
       "      <td>NaN</td>\n",
       "      <td>2017-05-05 00:00:00.000000</td>\n",
       "      <td>2017-05-08 15:20:18+00:00</td>\n",
       "    </tr>\n",
       "  </tbody>\n",
       "</table>\n",
       "<p>5 rows × 25 columns</p>\n",
       "</div>"
      ],
      "text/plain": [
       "                           order_id order_status  order_products_value  \\\n",
       "0  b95df3cef5297e79ef709ba256518f6f    delivered                349.90   \n",
       "1  59af46052a799e80e2f0c665c587731d    delivered                 15.00   \n",
       "2  a3e6136894621db402a772c6bc72a12a    delivered                238.90   \n",
       "3  b675ea5a618922f6e679e30531b8957b    delivered                 29.99   \n",
       "4  195a8be6794c487fe6cfbb97b7c61902    delivered                295.99   \n",
       "\n",
       "   order_freight_value  order_items_qty  order_sellers_qty  \\\n",
       "0                13.84                1                  1   \n",
       "1                15.10                1                  1   \n",
       "2                18.00                1                  1   \n",
       "3                18.23                1                  1   \n",
       "4                47.65                1                  1   \n",
       "\n",
       "     order_purchase_timestamp            order_aproved_at  \\\n",
       "0  2017-01-31 17:19:01.000000  2017-02-01 02:41:21.549551   \n",
       "1  2017-09-09 19:52:54.000000  2017-09-10 20:03:31.535281   \n",
       "2  2017-01-30 17:00:09.000000  2017-01-30 17:31:25.438253   \n",
       "3  2018-03-11 18:18:36.000000  2018-03-11 18:30:37.931962   \n",
       "4  2017-04-20 08:01:08.000000  2017-04-25 08:05:40.405383   \n",
       "\n",
       "  order_estimated_delivery_date order_delivered_customer_date  \\\n",
       "0    2017-03-15 00:00:00.000000    2017-02-06 11:04:24.154259   \n",
       "1    2017-10-02 00:00:00.000000    2017-09-13 20:17:41.296915   \n",
       "2    2017-03-07 00:00:00.000000    2017-02-06 15:43:04.758566   \n",
       "3    2018-04-03 00:00:00.000000    2018-04-03 20:36:43.778451   \n",
       "4    2017-05-24 00:00:00.000000    2017-05-04 18:47:45.721758   \n",
       "\n",
       "             ...             product_name_lenght product_description_lenght  \\\n",
       "0            ...                              51                        625   \n",
       "1            ...                              44                       1428   \n",
       "2            ...                              55                        637   \n",
       "3            ...                              55                        617   \n",
       "4            ...                              49                        558   \n",
       "\n",
       "  product_photos_qty                        product_id  \\\n",
       "0                  1  6cdd53843498f92890544667809f1595   \n",
       "1                  2  ae5cad88462eb7b7b61401e31c45618e   \n",
       "2                  1  0c9ff9d8ed9b9bdd825487b3a66e05f5   \n",
       "3                  1  ad0a798e7941f3a5a2fb8139cb62ad78   \n",
       "4                  2  eaf2046d4c87809247a30050ea13df03   \n",
       "\n",
       "                          review_id  review_score  review_comment_title  \\\n",
       "0  b95df3cef5297e79ef709ba256518f6f             5                   NaN   \n",
       "1  59af46052a799e80e2f0c665c587731d             5                   NaN   \n",
       "2  a3e6136894621db402a772c6bc72a12a             5                   NaN   \n",
       "3  b675ea5a618922f6e679e30531b8957b             4                   NaN   \n",
       "4  195a8be6794c487fe6cfbb97b7c61902             5                   NaN   \n",
       "\n",
       "                              review_comment_message  \\\n",
       "0                                                NaN   \n",
       "1  entrega em 2 dias produto c boa qualidade otim...   \n",
       "2  produto veio antes do prazo informado muito ob...   \n",
       "3                                                NaN   \n",
       "4                                                NaN   \n",
       "\n",
       "         review_creation_date    review_answer_timestamp  \n",
       "0  2017-02-07 00:00:00.000000  2017-02-09 02:37:37+00:00  \n",
       "1  2017-09-14 00:00:00.000000  2017-09-15 03:43:47+00:00  \n",
       "2  2017-02-07 00:00:00.000000  2017-02-10 14:18:53+00:00  \n",
       "3  2018-04-04 00:00:00.000000  2018-04-05 02:52:31+00:00  \n",
       "4  2017-05-05 00:00:00.000000  2017-05-08 15:20:18+00:00  \n",
       "\n",
       "[5 rows x 25 columns]"
      ]
     },
     "execution_count": 12,
     "metadata": {},
     "output_type": "execute_result"
    }
   ],
   "source": [
    "order.head()\n"
   ]
  },
  {
   "cell_type": "code",
   "execution_count": 13,
   "metadata": {},
   "outputs": [
    {
     "data": {
      "text/html": [
       "<div>\n",
       "<style scoped>\n",
       "    .dataframe tbody tr th:only-of-type {\n",
       "        vertical-align: middle;\n",
       "    }\n",
       "\n",
       "    .dataframe tbody tr th {\n",
       "        vertical-align: top;\n",
       "    }\n",
       "\n",
       "    .dataframe thead th {\n",
       "        text-align: right;\n",
       "    }\n",
       "</style>\n",
       "<table border=\"1\" class=\"dataframe\">\n",
       "  <thead>\n",
       "    <tr style=\"text-align: right;\">\n",
       "      <th></th>\n",
       "      <th>order_id</th>\n",
       "      <th>order_status</th>\n",
       "      <th>order_products_value</th>\n",
       "      <th>order_freight_value</th>\n",
       "      <th>order_items_qty</th>\n",
       "      <th>order_sellers_qty</th>\n",
       "      <th>order_purchase_timestamp</th>\n",
       "      <th>order_aproved_at</th>\n",
       "      <th>order_estimated_delivery_date</th>\n",
       "      <th>order_delivered_customer_date</th>\n",
       "      <th>...</th>\n",
       "      <th>review_id</th>\n",
       "      <th>review_score</th>\n",
       "      <th>review_comment_title</th>\n",
       "      <th>review_comment_message</th>\n",
       "      <th>review_creation_date</th>\n",
       "      <th>review_answer_timestamp</th>\n",
       "      <th>installments</th>\n",
       "      <th>sequential</th>\n",
       "      <th>payment_type</th>\n",
       "      <th>value</th>\n",
       "    </tr>\n",
       "  </thead>\n",
       "  <tbody>\n",
       "    <tr>\n",
       "      <th>0</th>\n",
       "      <td>b95df3cef5297e79ef709ba256518f6f</td>\n",
       "      <td>delivered</td>\n",
       "      <td>349.90</td>\n",
       "      <td>13.84</td>\n",
       "      <td>1</td>\n",
       "      <td>1</td>\n",
       "      <td>2017-01-31 17:19:01.000000</td>\n",
       "      <td>2017-02-01 02:41:21.549551</td>\n",
       "      <td>2017-03-15 00:00:00.000000</td>\n",
       "      <td>2017-02-06 11:04:24.154259</td>\n",
       "      <td>...</td>\n",
       "      <td>b95df3cef5297e79ef709ba256518f6f</td>\n",
       "      <td>5</td>\n",
       "      <td>NaN</td>\n",
       "      <td>NaN</td>\n",
       "      <td>2017-02-07 00:00:00.000000</td>\n",
       "      <td>2017-02-09 02:37:37+00:00</td>\n",
       "      <td>1.0</td>\n",
       "      <td>1.0</td>\n",
       "      <td>boleto</td>\n",
       "      <td>363.74</td>\n",
       "    </tr>\n",
       "    <tr>\n",
       "      <th>1</th>\n",
       "      <td>59af46052a799e80e2f0c665c587731d</td>\n",
       "      <td>delivered</td>\n",
       "      <td>15.00</td>\n",
       "      <td>15.10</td>\n",
       "      <td>1</td>\n",
       "      <td>1</td>\n",
       "      <td>2017-09-09 19:52:54.000000</td>\n",
       "      <td>2017-09-10 20:03:31.535281</td>\n",
       "      <td>2017-10-02 00:00:00.000000</td>\n",
       "      <td>2017-09-13 20:17:41.296915</td>\n",
       "      <td>...</td>\n",
       "      <td>59af46052a799e80e2f0c665c587731d</td>\n",
       "      <td>5</td>\n",
       "      <td>NaN</td>\n",
       "      <td>entrega em 2 dias produto c boa qualidade otim...</td>\n",
       "      <td>2017-09-14 00:00:00.000000</td>\n",
       "      <td>2017-09-15 03:43:47+00:00</td>\n",
       "      <td>1.0</td>\n",
       "      <td>1.0</td>\n",
       "      <td>credit_card</td>\n",
       "      <td>30.10</td>\n",
       "    </tr>\n",
       "    <tr>\n",
       "      <th>2</th>\n",
       "      <td>a3e6136894621db402a772c6bc72a12a</td>\n",
       "      <td>delivered</td>\n",
       "      <td>238.90</td>\n",
       "      <td>18.00</td>\n",
       "      <td>1</td>\n",
       "      <td>1</td>\n",
       "      <td>2017-01-30 17:00:09.000000</td>\n",
       "      <td>2017-01-30 17:31:25.438253</td>\n",
       "      <td>2017-03-07 00:00:00.000000</td>\n",
       "      <td>2017-02-06 15:43:04.758566</td>\n",
       "      <td>...</td>\n",
       "      <td>a3e6136894621db402a772c6bc72a12a</td>\n",
       "      <td>5</td>\n",
       "      <td>NaN</td>\n",
       "      <td>produto veio antes do prazo informado muito ob...</td>\n",
       "      <td>2017-02-07 00:00:00.000000</td>\n",
       "      <td>2017-02-10 14:18:53+00:00</td>\n",
       "      <td>10.0</td>\n",
       "      <td>1.0</td>\n",
       "      <td>credit_card</td>\n",
       "      <td>256.90</td>\n",
       "    </tr>\n",
       "    <tr>\n",
       "      <th>3</th>\n",
       "      <td>b675ea5a618922f6e679e30531b8957b</td>\n",
       "      <td>delivered</td>\n",
       "      <td>29.99</td>\n",
       "      <td>18.23</td>\n",
       "      <td>1</td>\n",
       "      <td>1</td>\n",
       "      <td>2018-03-11 18:18:36.000000</td>\n",
       "      <td>2018-03-11 18:30:37.931962</td>\n",
       "      <td>2018-04-03 00:00:00.000000</td>\n",
       "      <td>2018-04-03 20:36:43.778451</td>\n",
       "      <td>...</td>\n",
       "      <td>b675ea5a618922f6e679e30531b8957b</td>\n",
       "      <td>4</td>\n",
       "      <td>NaN</td>\n",
       "      <td>NaN</td>\n",
       "      <td>2018-04-04 00:00:00.000000</td>\n",
       "      <td>2018-04-05 02:52:31+00:00</td>\n",
       "      <td>4.0</td>\n",
       "      <td>1.0</td>\n",
       "      <td>credit_card</td>\n",
       "      <td>48.22</td>\n",
       "    </tr>\n",
       "    <tr>\n",
       "      <th>4</th>\n",
       "      <td>195a8be6794c487fe6cfbb97b7c61902</td>\n",
       "      <td>delivered</td>\n",
       "      <td>295.99</td>\n",
       "      <td>47.65</td>\n",
       "      <td>1</td>\n",
       "      <td>1</td>\n",
       "      <td>2017-04-20 08:01:08.000000</td>\n",
       "      <td>2017-04-25 08:05:40.405383</td>\n",
       "      <td>2017-05-24 00:00:00.000000</td>\n",
       "      <td>2017-05-04 18:47:45.721758</td>\n",
       "      <td>...</td>\n",
       "      <td>195a8be6794c487fe6cfbb97b7c61902</td>\n",
       "      <td>5</td>\n",
       "      <td>NaN</td>\n",
       "      <td>NaN</td>\n",
       "      <td>2017-05-05 00:00:00.000000</td>\n",
       "      <td>2017-05-08 15:20:18+00:00</td>\n",
       "      <td>1.0</td>\n",
       "      <td>1.0</td>\n",
       "      <td>boleto</td>\n",
       "      <td>343.64</td>\n",
       "    </tr>\n",
       "  </tbody>\n",
       "</table>\n",
       "<p>5 rows × 29 columns</p>\n",
       "</div>"
      ],
      "text/plain": [
       "                           order_id order_status  order_products_value  \\\n",
       "0  b95df3cef5297e79ef709ba256518f6f    delivered                349.90   \n",
       "1  59af46052a799e80e2f0c665c587731d    delivered                 15.00   \n",
       "2  a3e6136894621db402a772c6bc72a12a    delivered                238.90   \n",
       "3  b675ea5a618922f6e679e30531b8957b    delivered                 29.99   \n",
       "4  195a8be6794c487fe6cfbb97b7c61902    delivered                295.99   \n",
       "\n",
       "   order_freight_value  order_items_qty  order_sellers_qty  \\\n",
       "0                13.84                1                  1   \n",
       "1                15.10                1                  1   \n",
       "2                18.00                1                  1   \n",
       "3                18.23                1                  1   \n",
       "4                47.65                1                  1   \n",
       "\n",
       "     order_purchase_timestamp            order_aproved_at  \\\n",
       "0  2017-01-31 17:19:01.000000  2017-02-01 02:41:21.549551   \n",
       "1  2017-09-09 19:52:54.000000  2017-09-10 20:03:31.535281   \n",
       "2  2017-01-30 17:00:09.000000  2017-01-30 17:31:25.438253   \n",
       "3  2018-03-11 18:18:36.000000  2018-03-11 18:30:37.931962   \n",
       "4  2017-04-20 08:01:08.000000  2017-04-25 08:05:40.405383   \n",
       "\n",
       "  order_estimated_delivery_date order_delivered_customer_date   ...    \\\n",
       "0    2017-03-15 00:00:00.000000    2017-02-06 11:04:24.154259   ...     \n",
       "1    2017-10-02 00:00:00.000000    2017-09-13 20:17:41.296915   ...     \n",
       "2    2017-03-07 00:00:00.000000    2017-02-06 15:43:04.758566   ...     \n",
       "3    2018-04-03 00:00:00.000000    2018-04-03 20:36:43.778451   ...     \n",
       "4    2017-05-24 00:00:00.000000    2017-05-04 18:47:45.721758   ...     \n",
       "\n",
       "                          review_id review_score review_comment_title  \\\n",
       "0  b95df3cef5297e79ef709ba256518f6f            5                  NaN   \n",
       "1  59af46052a799e80e2f0c665c587731d            5                  NaN   \n",
       "2  a3e6136894621db402a772c6bc72a12a            5                  NaN   \n",
       "3  b675ea5a618922f6e679e30531b8957b            4                  NaN   \n",
       "4  195a8be6794c487fe6cfbb97b7c61902            5                  NaN   \n",
       "\n",
       "                              review_comment_message  \\\n",
       "0                                                NaN   \n",
       "1  entrega em 2 dias produto c boa qualidade otim...   \n",
       "2  produto veio antes do prazo informado muito ob...   \n",
       "3                                                NaN   \n",
       "4                                                NaN   \n",
       "\n",
       "         review_creation_date    review_answer_timestamp  installments  \\\n",
       "0  2017-02-07 00:00:00.000000  2017-02-09 02:37:37+00:00           1.0   \n",
       "1  2017-09-14 00:00:00.000000  2017-09-15 03:43:47+00:00           1.0   \n",
       "2  2017-02-07 00:00:00.000000  2017-02-10 14:18:53+00:00          10.0   \n",
       "3  2018-04-04 00:00:00.000000  2018-04-05 02:52:31+00:00           4.0   \n",
       "4  2017-05-05 00:00:00.000000  2017-05-08 15:20:18+00:00           1.0   \n",
       "\n",
       "   sequential payment_type   value  \n",
       "0         1.0       boleto  363.74  \n",
       "1         1.0  credit_card   30.10  \n",
       "2         1.0  credit_card  256.90  \n",
       "3         1.0  credit_card   48.22  \n",
       "4         1.0       boleto  343.64  \n",
       "\n",
       "[5 rows x 29 columns]"
      ]
     },
     "execution_count": 13,
     "metadata": {},
     "output_type": "execute_result"
    }
   ],
   "source": [
    "#merging order and pay using left join\n",
    "order_pay = pd.merge(order,payment, how =\"left\", on=['order_id', 'order_id'])\n",
    "order_pay.head()"
   ]
  },
  {
   "cell_type": "code",
   "execution_count": 14,
   "metadata": {},
   "outputs": [
    {
     "data": {
      "text/html": [
       "<div>\n",
       "<style scoped>\n",
       "    .dataframe tbody tr th:only-of-type {\n",
       "        vertical-align: middle;\n",
       "    }\n",
       "\n",
       "    .dataframe tbody tr th {\n",
       "        vertical-align: top;\n",
       "    }\n",
       "\n",
       "    .dataframe thead th {\n",
       "        text-align: right;\n",
       "    }\n",
       "</style>\n",
       "<table border=\"1\" class=\"dataframe\">\n",
       "  <thead>\n",
       "    <tr style=\"text-align: right;\">\n",
       "      <th></th>\n",
       "      <th>order_id</th>\n",
       "      <th>order_status</th>\n",
       "      <th>order_products_value</th>\n",
       "      <th>order_freight_value</th>\n",
       "      <th>order_items_qty</th>\n",
       "      <th>order_sellers_qty</th>\n",
       "      <th>order_purchase_timestamp</th>\n",
       "      <th>order_aproved_at</th>\n",
       "      <th>order_estimated_delivery_date</th>\n",
       "      <th>order_delivered_customer_date</th>\n",
       "      <th>...</th>\n",
       "      <th>review_score</th>\n",
       "      <th>review_comment_title</th>\n",
       "      <th>review_comment_message</th>\n",
       "      <th>review_creation_date</th>\n",
       "      <th>review_answer_timestamp</th>\n",
       "      <th>installments</th>\n",
       "      <th>sequential</th>\n",
       "      <th>payment_type</th>\n",
       "      <th>value</th>\n",
       "      <th>product_category_name_english</th>\n",
       "    </tr>\n",
       "  </thead>\n",
       "  <tbody>\n",
       "    <tr>\n",
       "      <th>0</th>\n",
       "      <td>b95df3cef5297e79ef709ba256518f6f</td>\n",
       "      <td>delivered</td>\n",
       "      <td>349.90</td>\n",
       "      <td>13.84</td>\n",
       "      <td>1</td>\n",
       "      <td>1</td>\n",
       "      <td>2017-01-31 17:19:01.000000</td>\n",
       "      <td>2017-02-01 02:41:21.549551</td>\n",
       "      <td>2017-03-15 00:00:00.000000</td>\n",
       "      <td>2017-02-06 11:04:24.154259</td>\n",
       "      <td>...</td>\n",
       "      <td>5</td>\n",
       "      <td>NaN</td>\n",
       "      <td>NaN</td>\n",
       "      <td>2017-02-07 00:00:00.000000</td>\n",
       "      <td>2017-02-09 02:37:37+00:00</td>\n",
       "      <td>1.0</td>\n",
       "      <td>1.0</td>\n",
       "      <td>boleto</td>\n",
       "      <td>363.74</td>\n",
       "      <td>health_beauty</td>\n",
       "    </tr>\n",
       "    <tr>\n",
       "      <th>1</th>\n",
       "      <td>59af46052a799e80e2f0c665c587731d</td>\n",
       "      <td>delivered</td>\n",
       "      <td>15.00</td>\n",
       "      <td>15.10</td>\n",
       "      <td>1</td>\n",
       "      <td>1</td>\n",
       "      <td>2017-09-09 19:52:54.000000</td>\n",
       "      <td>2017-09-10 20:03:31.535281</td>\n",
       "      <td>2017-10-02 00:00:00.000000</td>\n",
       "      <td>2017-09-13 20:17:41.296915</td>\n",
       "      <td>...</td>\n",
       "      <td>5</td>\n",
       "      <td>NaN</td>\n",
       "      <td>entrega em 2 dias produto c boa qualidade otim...</td>\n",
       "      <td>2017-09-14 00:00:00.000000</td>\n",
       "      <td>2017-09-15 03:43:47+00:00</td>\n",
       "      <td>1.0</td>\n",
       "      <td>1.0</td>\n",
       "      <td>credit_card</td>\n",
       "      <td>30.10</td>\n",
       "      <td>computers_accessories</td>\n",
       "    </tr>\n",
       "    <tr>\n",
       "      <th>2</th>\n",
       "      <td>a3e6136894621db402a772c6bc72a12a</td>\n",
       "      <td>delivered</td>\n",
       "      <td>238.90</td>\n",
       "      <td>18.00</td>\n",
       "      <td>1</td>\n",
       "      <td>1</td>\n",
       "      <td>2017-01-30 17:00:09.000000</td>\n",
       "      <td>2017-01-30 17:31:25.438253</td>\n",
       "      <td>2017-03-07 00:00:00.000000</td>\n",
       "      <td>2017-02-06 15:43:04.758566</td>\n",
       "      <td>...</td>\n",
       "      <td>5</td>\n",
       "      <td>NaN</td>\n",
       "      <td>produto veio antes do prazo informado muito ob...</td>\n",
       "      <td>2017-02-07 00:00:00.000000</td>\n",
       "      <td>2017-02-10 14:18:53+00:00</td>\n",
       "      <td>10.0</td>\n",
       "      <td>1.0</td>\n",
       "      <td>credit_card</td>\n",
       "      <td>256.90</td>\n",
       "      <td>auto</td>\n",
       "    </tr>\n",
       "    <tr>\n",
       "      <th>3</th>\n",
       "      <td>b675ea5a618922f6e679e30531b8957b</td>\n",
       "      <td>delivered</td>\n",
       "      <td>29.99</td>\n",
       "      <td>18.23</td>\n",
       "      <td>1</td>\n",
       "      <td>1</td>\n",
       "      <td>2018-03-11 18:18:36.000000</td>\n",
       "      <td>2018-03-11 18:30:37.931962</td>\n",
       "      <td>2018-04-03 00:00:00.000000</td>\n",
       "      <td>2018-04-03 20:36:43.778451</td>\n",
       "      <td>...</td>\n",
       "      <td>4</td>\n",
       "      <td>NaN</td>\n",
       "      <td>NaN</td>\n",
       "      <td>2018-04-04 00:00:00.000000</td>\n",
       "      <td>2018-04-05 02:52:31+00:00</td>\n",
       "      <td>4.0</td>\n",
       "      <td>1.0</td>\n",
       "      <td>credit_card</td>\n",
       "      <td>48.22</td>\n",
       "      <td>bed_bath_table</td>\n",
       "    </tr>\n",
       "    <tr>\n",
       "      <th>4</th>\n",
       "      <td>195a8be6794c487fe6cfbb97b7c61902</td>\n",
       "      <td>delivered</td>\n",
       "      <td>295.99</td>\n",
       "      <td>47.65</td>\n",
       "      <td>1</td>\n",
       "      <td>1</td>\n",
       "      <td>2017-04-20 08:01:08.000000</td>\n",
       "      <td>2017-04-25 08:05:40.405383</td>\n",
       "      <td>2017-05-24 00:00:00.000000</td>\n",
       "      <td>2017-05-04 18:47:45.721758</td>\n",
       "      <td>...</td>\n",
       "      <td>5</td>\n",
       "      <td>NaN</td>\n",
       "      <td>NaN</td>\n",
       "      <td>2017-05-05 00:00:00.000000</td>\n",
       "      <td>2017-05-08 15:20:18+00:00</td>\n",
       "      <td>1.0</td>\n",
       "      <td>1.0</td>\n",
       "      <td>boleto</td>\n",
       "      <td>343.64</td>\n",
       "      <td>furniture_decor</td>\n",
       "    </tr>\n",
       "  </tbody>\n",
       "</table>\n",
       "<p>5 rows × 30 columns</p>\n",
       "</div>"
      ],
      "text/plain": [
       "                           order_id order_status  order_products_value  \\\n",
       "0  b95df3cef5297e79ef709ba256518f6f    delivered                349.90   \n",
       "1  59af46052a799e80e2f0c665c587731d    delivered                 15.00   \n",
       "2  a3e6136894621db402a772c6bc72a12a    delivered                238.90   \n",
       "3  b675ea5a618922f6e679e30531b8957b    delivered                 29.99   \n",
       "4  195a8be6794c487fe6cfbb97b7c61902    delivered                295.99   \n",
       "\n",
       "   order_freight_value  order_items_qty  order_sellers_qty  \\\n",
       "0                13.84                1                  1   \n",
       "1                15.10                1                  1   \n",
       "2                18.00                1                  1   \n",
       "3                18.23                1                  1   \n",
       "4                47.65                1                  1   \n",
       "\n",
       "     order_purchase_timestamp            order_aproved_at  \\\n",
       "0  2017-01-31 17:19:01.000000  2017-02-01 02:41:21.549551   \n",
       "1  2017-09-09 19:52:54.000000  2017-09-10 20:03:31.535281   \n",
       "2  2017-01-30 17:00:09.000000  2017-01-30 17:31:25.438253   \n",
       "3  2018-03-11 18:18:36.000000  2018-03-11 18:30:37.931962   \n",
       "4  2017-04-20 08:01:08.000000  2017-04-25 08:05:40.405383   \n",
       "\n",
       "  order_estimated_delivery_date order_delivered_customer_date  \\\n",
       "0    2017-03-15 00:00:00.000000    2017-02-06 11:04:24.154259   \n",
       "1    2017-10-02 00:00:00.000000    2017-09-13 20:17:41.296915   \n",
       "2    2017-03-07 00:00:00.000000    2017-02-06 15:43:04.758566   \n",
       "3    2018-04-03 00:00:00.000000    2018-04-03 20:36:43.778451   \n",
       "4    2017-05-24 00:00:00.000000    2017-05-04 18:47:45.721758   \n",
       "\n",
       "               ...              review_score review_comment_title  \\\n",
       "0              ...                         5                  NaN   \n",
       "1              ...                         5                  NaN   \n",
       "2              ...                         5                  NaN   \n",
       "3              ...                         4                  NaN   \n",
       "4              ...                         5                  NaN   \n",
       "\n",
       "                              review_comment_message  \\\n",
       "0                                                NaN   \n",
       "1  entrega em 2 dias produto c boa qualidade otim...   \n",
       "2  produto veio antes do prazo informado muito ob...   \n",
       "3                                                NaN   \n",
       "4                                                NaN   \n",
       "\n",
       "         review_creation_date    review_answer_timestamp  installments  \\\n",
       "0  2017-02-07 00:00:00.000000  2017-02-09 02:37:37+00:00           1.0   \n",
       "1  2017-09-14 00:00:00.000000  2017-09-15 03:43:47+00:00           1.0   \n",
       "2  2017-02-07 00:00:00.000000  2017-02-10 14:18:53+00:00          10.0   \n",
       "3  2018-04-04 00:00:00.000000  2018-04-05 02:52:31+00:00           4.0   \n",
       "4  2017-05-05 00:00:00.000000  2017-05-08 15:20:18+00:00           1.0   \n",
       "\n",
       "   sequential  payment_type   value product_category_name_english  \n",
       "0         1.0        boleto  363.74                 health_beauty  \n",
       "1         1.0   credit_card   30.10         computers_accessories  \n",
       "2         1.0   credit_card  256.90                          auto  \n",
       "3         1.0   credit_card   48.22                bed_bath_table  \n",
       "4         1.0        boleto  343.64               furniture_decor  \n",
       "\n",
       "[5 rows x 30 columns]"
      ]
     },
     "execution_count": 14,
     "metadata": {},
     "output_type": "execute_result"
    }
   ],
   "source": [
    "\n",
    "#order_pay.info()\n",
    "#product.info()\n",
    "#product.head()\n",
    "#merging order_pay and product on the basis of product categories\n",
    "order_pay_prod = pd.merge(order_pay,product, how = \"left\", on = ['product_category_name','product_category_name'])\n",
    "order_pay_prod.head()"
   ]
  },
  {
   "cell_type": "markdown",
   "metadata": {},
   "source": [
    "Total number of unique orders and customers \n"
   ]
  },
  {
   "cell_type": "code",
   "execution_count": 15,
   "metadata": {},
   "outputs": [
    {
     "name": "stdout",
     "output_type": "stream",
     "text": [
      "total number of unique order in database:96264\n",
      "total number of unique customers in database:96264\n"
     ]
    }
   ],
   "source": [
    "uni_orders= order['order_id'].nunique()\n",
    "uni_customers= order['customer_id'].nunique()\n",
    "print(f\"total number of unique order in database:{uni_orders}\")\n",
    "print(f\"total number of unique customers in database:{uni_customers}\")"
   ]
  },
  {
   "cell_type": "code",
   "execution_count": 16,
   "metadata": {},
   "outputs": [
    {
     "data": {
      "text/plain": [
       "order_status\n",
       "approved           2\n",
       "unavailable        9\n",
       "invoiced         316\n",
       "processing       382\n",
       "canceled         480\n",
       "shipped         1163\n",
       "delivered      93912\n",
       "Name: order_id, dtype: int64"
      ]
     },
     "execution_count": 16,
     "metadata": {},
     "output_type": "execute_result"
    }
   ],
   "source": [
    "status_order= order.groupby('order_status')['order_id'].nunique().sort_values()\n",
    "status_order"
   ]
  },
  {
   "cell_type": "code",
   "execution_count": 17,
   "metadata": {},
   "outputs": [
    {
     "name": "stdout",
     "output_type": "stream",
     "text": [
      "Max order amount : 13440.0\n",
      "Min order amount : 2.0\n",
      "Mean order amount : 129.19170360012242\n",
      "Median order amount : 83.65\n"
     ]
    }
   ],
   "source": [
    "#summary\n",
    "print(\"Max order amount :\", order[\"order_products_value\"].max())\n",
    "print(\"Min order amount :\", order[\"order_products_value\"].min())\n",
    "print(\"Mean order amount :\", order[\"order_products_value\"].mean())\n",
    "print(\"Median order amount :\", order[\"order_products_value\"].median())"
   ]
  },
  {
   "cell_type": "code",
   "execution_count": 18,
   "metadata": {},
   "outputs": [],
   "source": [
    "#order value on the basis of order product category \n",
    "\n",
    "pod_type_value = order.groupby('product_category_name')['order_products_value','order_freight_value'].sum().sort_values(by='order_products_value',ascending= False).reset_index()\n"
   ]
  },
  {
   "cell_type": "code",
   "execution_count": 19,
   "metadata": {},
   "outputs": [
    {
     "data": {
      "text/html": [
       "<div>\n",
       "<style scoped>\n",
       "    .dataframe tbody tr th:only-of-type {\n",
       "        vertical-align: middle;\n",
       "    }\n",
       "\n",
       "    .dataframe tbody tr th {\n",
       "        vertical-align: top;\n",
       "    }\n",
       "\n",
       "    .dataframe thead th {\n",
       "        text-align: right;\n",
       "    }\n",
       "</style>\n",
       "<table border=\"1\" class=\"dataframe\">\n",
       "  <thead>\n",
       "    <tr style=\"text-align: right;\">\n",
       "      <th></th>\n",
       "      <th>product_category_name</th>\n",
       "      <th>order_products_value</th>\n",
       "      <th>order_freight_value</th>\n",
       "    </tr>\n",
       "  </thead>\n",
       "  <tbody>\n",
       "    <tr>\n",
       "      <th>0</th>\n",
       "      <td>relogios_presentes</td>\n",
       "      <td>1337041.00</td>\n",
       "      <td>117014.99</td>\n",
       "    </tr>\n",
       "    <tr>\n",
       "      <th>1</th>\n",
       "      <td>beleza_saude</td>\n",
       "      <td>1081665.93</td>\n",
       "      <td>158490.12</td>\n",
       "    </tr>\n",
       "    <tr>\n",
       "      <th>2</th>\n",
       "      <td>cama_mesa_banho</td>\n",
       "      <td>1056703.34</td>\n",
       "      <td>205529.22</td>\n",
       "    </tr>\n",
       "    <tr>\n",
       "      <th>3</th>\n",
       "      <td>esporte_lazer</td>\n",
       "      <td>961111.91</td>\n",
       "      <td>170545.10</td>\n",
       "    </tr>\n",
       "    <tr>\n",
       "      <th>4</th>\n",
       "      <td>informatica_acessorios</td>\n",
       "      <td>859228.95</td>\n",
       "      <td>137728.17</td>\n",
       "    </tr>\n",
       "    <tr>\n",
       "      <th>5</th>\n",
       "      <td>moveis_decoracao</td>\n",
       "      <td>807599.95</td>\n",
       "      <td>187603.16</td>\n",
       "    </tr>\n",
       "    <tr>\n",
       "      <th>6</th>\n",
       "      <td>cool_stuff</td>\n",
       "      <td>781994.60</td>\n",
       "      <td>98848.35</td>\n",
       "    </tr>\n",
       "    <tr>\n",
       "      <th>7</th>\n",
       "      <td>utilidades_domesticas</td>\n",
       "      <td>608886.28</td>\n",
       "      <td>144322.95</td>\n",
       "    </tr>\n",
       "    <tr>\n",
       "      <th>8</th>\n",
       "      <td>ferramentas_jardim</td>\n",
       "      <td>603535.36</td>\n",
       "      <td>128996.87</td>\n",
       "    </tr>\n",
       "    <tr>\n",
       "      <th>9</th>\n",
       "      <td>brinquedos</td>\n",
       "      <td>474985.20</td>\n",
       "      <td>79459.93</td>\n",
       "    </tr>\n",
       "  </tbody>\n",
       "</table>\n",
       "</div>"
      ],
      "text/plain": [
       "    product_category_name  order_products_value  order_freight_value\n",
       "0      relogios_presentes            1337041.00            117014.99\n",
       "1            beleza_saude            1081665.93            158490.12\n",
       "2         cama_mesa_banho            1056703.34            205529.22\n",
       "3           esporte_lazer             961111.91            170545.10\n",
       "4  informatica_acessorios             859228.95            137728.17\n",
       "5        moveis_decoracao             807599.95            187603.16\n",
       "6              cool_stuff             781994.60             98848.35\n",
       "7   utilidades_domesticas             608886.28            144322.95\n",
       "8      ferramentas_jardim             603535.36            128996.87\n",
       "9              brinquedos             474985.20             79459.93"
      ]
     },
     "execution_count": 19,
     "metadata": {},
     "output_type": "execute_result"
    }
   ],
   "source": [
    "pod_type_value.head(10)"
   ]
  },
  {
   "cell_type": "code",
   "execution_count": 20,
   "metadata": {},
   "outputs": [
    {
     "data": {
      "text/html": [
       "<div>\n",
       "<style scoped>\n",
       "    .dataframe tbody tr th:only-of-type {\n",
       "        vertical-align: middle;\n",
       "    }\n",
       "\n",
       "    .dataframe tbody tr th {\n",
       "        vertical-align: top;\n",
       "    }\n",
       "\n",
       "    .dataframe thead th {\n",
       "        text-align: right;\n",
       "    }\n",
       "</style>\n",
       "<table border=\"1\" class=\"dataframe\">\n",
       "  <thead>\n",
       "    <tr style=\"text-align: right;\">\n",
       "      <th></th>\n",
       "      <th>order_id</th>\n",
       "      <th>order_products_value</th>\n",
       "      <th>order_freight_value</th>\n",
       "    </tr>\n",
       "  </thead>\n",
       "  <tbody>\n",
       "    <tr>\n",
       "      <th>0</th>\n",
       "      <td>03caa2c082116e1d31e67e9ae3700499</td>\n",
       "      <td>13440.0</td>\n",
       "      <td>224.08</td>\n",
       "    </tr>\n",
       "    <tr>\n",
       "      <th>1</th>\n",
       "      <td>453988a33cf7b5cb5ce32385e9ecfcdc</td>\n",
       "      <td>9798.0</td>\n",
       "      <td>140.44</td>\n",
       "    </tr>\n",
       "    <tr>\n",
       "      <th>2</th>\n",
       "      <td>a96610ab360d42a2e5335a3998b4718a</td>\n",
       "      <td>9598.0</td>\n",
       "      <td>302.68</td>\n",
       "    </tr>\n",
       "    <tr>\n",
       "      <th>3</th>\n",
       "      <td>20926be916c5a88fd0554fc7dbf62e37</td>\n",
       "      <td>8250.0</td>\n",
       "      <td>137.60</td>\n",
       "    </tr>\n",
       "    <tr>\n",
       "      <th>4</th>\n",
       "      <td>736e1922ae60d0d6a89247b851902527</td>\n",
       "      <td>7160.0</td>\n",
       "      <td>114.88</td>\n",
       "    </tr>\n",
       "  </tbody>\n",
       "</table>\n",
       "</div>"
      ],
      "text/plain": [
       "                           order_id  order_products_value  order_freight_value\n",
       "0  03caa2c082116e1d31e67e9ae3700499               13440.0               224.08\n",
       "1  453988a33cf7b5cb5ce32385e9ecfcdc                9798.0               140.44\n",
       "2  a96610ab360d42a2e5335a3998b4718a                9598.0               302.68\n",
       "3  20926be916c5a88fd0554fc7dbf62e37                8250.0               137.60\n",
       "4  736e1922ae60d0d6a89247b851902527                7160.0               114.88"
      ]
     },
     "execution_count": 20,
     "metadata": {},
     "output_type": "execute_result"
    }
   ],
   "source": [
    "##order value on the basis of order id\n",
    "order_value = order.groupby('order_id')['order_products_value','order_freight_value'].sum().sort_values(by='order_products_value',ascending= False).reset_index()\n",
    "order_value.head()"
   ]
  },
  {
   "cell_type": "code",
   "execution_count": 21,
   "metadata": {},
   "outputs": [
    {
     "name": "stderr",
     "output_type": "stream",
     "text": [
      "C:\\Users\\User\\Anaconda3\\lib\\site-packages\\scipy\\stats\\stats.py:1713: FutureWarning: Using a non-tuple sequence for multidimensional indexing is deprecated; use `arr[tuple(seq)]` instead of `arr[seq]`. In the future this will be interpreted as an array index, `arr[np.array(seq)]`, which will result either in an error or a different result.\n",
      "  return np.add.reduce(sorted[indexer] * weights, axis=axis) / sumval\n"
     ]
    },
    {
     "data": {
      "text/plain": [
       "Text(0,0.5,'Frequency')"
      ]
     },
     "execution_count": 21,
     "metadata": {},
     "output_type": "execute_result"
    },
    {
     "data": {
      "image/png": "[encoded data removed]",
      "text/plain": [
       "<Figure size 792x792 with 2 Axes>"
      ]
     },
     "metadata": {
      "needs_background": "light"
     },
     "output_type": "display_data"
    }
   ],
   "source": [
    "plt.figure(figsize=(11,11))\n",
    "\n",
    "plt.subplot(221)\n",
    "g = sns.distplot(np.log(order['order_products_value']+1),color = \"y\")\n",
    "g.set_title(\"Product Value of Orders - Distribution\", fontsize=15)\n",
    "g.set_xlabel(\"\")\n",
    "g.set_ylabel(\"Frequency\", fontsize=12)\n",
    "\n",
    "plt.subplot(222)\n",
    "g1 = sns.distplot(np.log(order['order_freight_value'] + 1),color = \"g\")\n",
    "g1.set_title(\"Freight Value of Orders - Distribution\", fontsize=15)\n",
    "g1.set_xlabel(\"\")\n",
    "g1.set_ylabel(\"Frequency\", fontsize=12)"
   ]
  },
  {
   "cell_type": "code",
   "execution_count": 22,
   "metadata": {},
   "outputs": [
    {
     "name": "stdout",
     "output_type": "stream",
     "text": [
      "Skewness of transaction: 0.2761845268559907\n",
      "Kurtosis of transaction 0.3903715071880147\n"
     ]
    }
   ],
   "source": [
    "#checking skew and kutosis of product value of oders\n",
    "print(\"Skewness of transaction:\", skew(np.log(order['order_products_value']+1)))\n",
    "print(\"Kurtosis of transaction\", kurtosis(np.log(order['order_products_value']+1)))"
   ]
  },
  {
   "cell_type": "markdown",
   "metadata": {},
   "source": [
    "skewness suggests data is fairly symmetrical and positive where kurtosis value is <3"
   ]
  },
  {
   "cell_type": "code",
   "execution_count": 23,
   "metadata": {},
   "outputs": [
    {
     "data": {
      "text/plain": [
       "1     86505\n",
       "2      7612\n",
       "3      1203\n",
       "4       531\n",
       "5       184\n",
       "6       167\n",
       "7        17\n",
       "8        14\n",
       "10        8\n",
       "12        7\n",
       "20        4\n",
       "15        4\n",
       "9         4\n",
       "11        2\n",
       "18        1\n",
       "14        1\n",
       "Name: order_items_qty, dtype: int64"
      ]
     },
     "execution_count": 23,
     "metadata": {},
     "output_type": "execute_result"
    }
   ],
   "source": [
    "#number of products people usually do\n",
    "order_peeps_do = order.groupby('order_id')['order_items_qty'].aggregate(sum).reset_index()\n",
    "order_peeps_do = order_peeps_do['order_items_qty'].value_counts()\n",
    "order_peeps_do.head(30)"
   ]
  },
  {
   "cell_type": "code",
   "execution_count": 24,
   "metadata": {},
   "outputs": [
    {
     "data": {
      "text/plain": [
       "Text(0,0.5,'Number of orders')"
      ]
     },
     "execution_count": 24,
     "metadata": {},
     "output_type": "execute_result"
    },
    {
     "data": {
      "image/png": "[encoded data removed]",
      "text/plain": [
       "<Figure size 792x792 with 1 Axes>"
      ]
     },
     "metadata": {
      "needs_background": "light"
     },
     "output_type": "display_data"
    }
   ],
   "source": [
    "plt.figure(figsize=(11,11))\n",
    "bar=sns.barplot(x=order_peeps_do.index,y=order_peeps_do.values,color=\"yellow\")\n",
    "bar.set_title(\"Number of products people usually order\")\n",
    "bar.set_xlabel(\"Number of products added in order\")\n",
    "bar.set_ylabel(\"Number of orders\")\n",
    "\n"
   ]
  },
  {
   "cell_type": "raw",
   "metadata": {},
   "source": [
    "maximum number of products order by people number one is most."
   ]
  },
  {
   "cell_type": "code",
   "execution_count": 25,
   "metadata": {},
   "outputs": [
    {
     "data": {
      "text/plain": [
       "Text(0,0.5,'Number of products bought')"
      ]
     },
     "execution_count": 25,
     "metadata": {},
     "output_type": "execute_result"
    },
    {
     "data": {
      "image/png": "[encoded data removed]",
      "text/plain": [
       "<Figure size 792x792 with 1 Axes>"
      ]
     },
     "metadata": {
      "needs_background": "light"
     },
     "output_type": "display_data"
    }
   ],
   "source": [
    "#most number of products bought category wise\n",
    "most_bought= order_pay_prod.groupby('product_category_name_english').aggregate({'order_id':'count'}).rename(columns={'order_id':'o_count'}).sort_values(by='o_count',ascending= False).reset_index()\n",
    "plt.figure(figsize=(11,11))\n",
    "most=sns.barplot(x='product_category_name_english',y='o_count',data= most_bought[:5],color=\"green\")\n",
    "most.set_title(\"Top 5 Bought Categories\")\n",
    "most.set_xlabel(\"Categories\")\n",
    "most.set_ylabel(\"Number of products bought\")\n",
    "\n",
    "\n"
   ]
  },
  {
   "cell_type": "markdown",
   "metadata": {},
   "source": [
    "Clearly Bed bath table is the most bought category"
   ]
  },
  {
   "cell_type": "code",
   "execution_count": 26,
   "metadata": {},
   "outputs": [
    {
     "data": {
      "text/html": [
       "<div>\n",
       "<style scoped>\n",
       "    .dataframe tbody tr th:only-of-type {\n",
       "        vertical-align: middle;\n",
       "    }\n",
       "\n",
       "    .dataframe tbody tr th {\n",
       "        vertical-align: top;\n",
       "    }\n",
       "\n",
       "    .dataframe thead th {\n",
       "        text-align: right;\n",
       "    }\n",
       "</style>\n",
       "<table border=\"1\" class=\"dataframe\">\n",
       "  <thead>\n",
       "    <tr style=\"text-align: right;\">\n",
       "      <th></th>\n",
       "      <th>order_id</th>\n",
       "      <th>order_status</th>\n",
       "      <th>order_products_value</th>\n",
       "      <th>order_freight_value</th>\n",
       "      <th>order_items_qty</th>\n",
       "      <th>order_sellers_qty</th>\n",
       "      <th>order_purchase_timestamp</th>\n",
       "      <th>order_aproved_at</th>\n",
       "      <th>order_estimated_delivery_date</th>\n",
       "      <th>order_delivered_customer_date</th>\n",
       "      <th>...</th>\n",
       "      <th>sequential</th>\n",
       "      <th>payment_type</th>\n",
       "      <th>value</th>\n",
       "      <th>product_category_name_english</th>\n",
       "      <th>year</th>\n",
       "      <th>month</th>\n",
       "      <th>weekday</th>\n",
       "      <th>week</th>\n",
       "      <th>monthday</th>\n",
       "      <th>hour</th>\n",
       "    </tr>\n",
       "  </thead>\n",
       "  <tbody>\n",
       "    <tr>\n",
       "      <th>0</th>\n",
       "      <td>b95df3cef5297e79ef709ba256518f6f</td>\n",
       "      <td>delivered</td>\n",
       "      <td>349.90</td>\n",
       "      <td>13.84</td>\n",
       "      <td>1</td>\n",
       "      <td>1</td>\n",
       "      <td>2017-01-31 17:19:01</td>\n",
       "      <td>2017-02-01 02:41:21.549551</td>\n",
       "      <td>2017-03-15 00:00:00.000000</td>\n",
       "      <td>2017-02-06 11:04:24.154259</td>\n",
       "      <td>...</td>\n",
       "      <td>1.0</td>\n",
       "      <td>boleto</td>\n",
       "      <td>363.74</td>\n",
       "      <td>health_beauty</td>\n",
       "      <td>2017</td>\n",
       "      <td>1</td>\n",
       "      <td>Tuesday</td>\n",
       "      <td>1</td>\n",
       "      <td>31</td>\n",
       "      <td>17</td>\n",
       "    </tr>\n",
       "    <tr>\n",
       "      <th>1</th>\n",
       "      <td>59af46052a799e80e2f0c665c587731d</td>\n",
       "      <td>delivered</td>\n",
       "      <td>15.00</td>\n",
       "      <td>15.10</td>\n",
       "      <td>1</td>\n",
       "      <td>1</td>\n",
       "      <td>2017-09-09 19:52:54</td>\n",
       "      <td>2017-09-10 20:03:31.535281</td>\n",
       "      <td>2017-10-02 00:00:00.000000</td>\n",
       "      <td>2017-09-13 20:17:41.296915</td>\n",
       "      <td>...</td>\n",
       "      <td>1.0</td>\n",
       "      <td>credit_card</td>\n",
       "      <td>30.10</td>\n",
       "      <td>computers_accessories</td>\n",
       "      <td>2017</td>\n",
       "      <td>9</td>\n",
       "      <td>Saturday</td>\n",
       "      <td>5</td>\n",
       "      <td>9</td>\n",
       "      <td>19</td>\n",
       "    </tr>\n",
       "    <tr>\n",
       "      <th>2</th>\n",
       "      <td>a3e6136894621db402a772c6bc72a12a</td>\n",
       "      <td>delivered</td>\n",
       "      <td>238.90</td>\n",
       "      <td>18.00</td>\n",
       "      <td>1</td>\n",
       "      <td>1</td>\n",
       "      <td>2017-01-30 17:00:09</td>\n",
       "      <td>2017-01-30 17:31:25.438253</td>\n",
       "      <td>2017-03-07 00:00:00.000000</td>\n",
       "      <td>2017-02-06 15:43:04.758566</td>\n",
       "      <td>...</td>\n",
       "      <td>1.0</td>\n",
       "      <td>credit_card</td>\n",
       "      <td>256.90</td>\n",
       "      <td>auto</td>\n",
       "      <td>2017</td>\n",
       "      <td>1</td>\n",
       "      <td>Monday</td>\n",
       "      <td>0</td>\n",
       "      <td>30</td>\n",
       "      <td>17</td>\n",
       "    </tr>\n",
       "    <tr>\n",
       "      <th>3</th>\n",
       "      <td>b675ea5a618922f6e679e30531b8957b</td>\n",
       "      <td>delivered</td>\n",
       "      <td>29.99</td>\n",
       "      <td>18.23</td>\n",
       "      <td>1</td>\n",
       "      <td>1</td>\n",
       "      <td>2018-03-11 18:18:36</td>\n",
       "      <td>2018-03-11 18:30:37.931962</td>\n",
       "      <td>2018-04-03 00:00:00.000000</td>\n",
       "      <td>2018-04-03 20:36:43.778451</td>\n",
       "      <td>...</td>\n",
       "      <td>1.0</td>\n",
       "      <td>credit_card</td>\n",
       "      <td>48.22</td>\n",
       "      <td>bed_bath_table</td>\n",
       "      <td>2018</td>\n",
       "      <td>3</td>\n",
       "      <td>Sunday</td>\n",
       "      <td>6</td>\n",
       "      <td>11</td>\n",
       "      <td>18</td>\n",
       "    </tr>\n",
       "    <tr>\n",
       "      <th>4</th>\n",
       "      <td>195a8be6794c487fe6cfbb97b7c61902</td>\n",
       "      <td>delivered</td>\n",
       "      <td>295.99</td>\n",
       "      <td>47.65</td>\n",
       "      <td>1</td>\n",
       "      <td>1</td>\n",
       "      <td>2017-04-20 08:01:08</td>\n",
       "      <td>2017-04-25 08:05:40.405383</td>\n",
       "      <td>2017-05-24 00:00:00.000000</td>\n",
       "      <td>2017-05-04 18:47:45.721758</td>\n",
       "      <td>...</td>\n",
       "      <td>1.0</td>\n",
       "      <td>boleto</td>\n",
       "      <td>343.64</td>\n",
       "      <td>furniture_decor</td>\n",
       "      <td>2017</td>\n",
       "      <td>4</td>\n",
       "      <td>Thursday</td>\n",
       "      <td>3</td>\n",
       "      <td>20</td>\n",
       "      <td>8</td>\n",
       "    </tr>\n",
       "    <tr>\n",
       "      <th>5</th>\n",
       "      <td>80dbbd6f2282898dbf912a2ec668175f</td>\n",
       "      <td>delivered</td>\n",
       "      <td>160.00</td>\n",
       "      <td>19.00</td>\n",
       "      <td>1</td>\n",
       "      <td>1</td>\n",
       "      <td>2018-04-03 13:25:35</td>\n",
       "      <td>2018-04-03 13:48:55.262983</td>\n",
       "      <td>2018-05-07 00:00:00.000000</td>\n",
       "      <td>2018-04-18 23:22:45.922709</td>\n",
       "      <td>...</td>\n",
       "      <td>1.0</td>\n",
       "      <td>credit_card</td>\n",
       "      <td>179.00</td>\n",
       "      <td>sports_leisure</td>\n",
       "      <td>2018</td>\n",
       "      <td>4</td>\n",
       "      <td>Tuesday</td>\n",
       "      <td>1</td>\n",
       "      <td>3</td>\n",
       "      <td>13</td>\n",
       "    </tr>\n",
       "    <tr>\n",
       "      <th>6</th>\n",
       "      <td>0f374228bdae432c9bdda69f21ccd261</td>\n",
       "      <td>delivered</td>\n",
       "      <td>25.00</td>\n",
       "      <td>19.09</td>\n",
       "      <td>1</td>\n",
       "      <td>1</td>\n",
       "      <td>2018-06-11 19:45:54</td>\n",
       "      <td>2018-06-11 20:22:07.752257</td>\n",
       "      <td>2018-07-04 00:00:00.000000</td>\n",
       "      <td>2018-06-29 20:52:35.173465</td>\n",
       "      <td>...</td>\n",
       "      <td>1.0</td>\n",
       "      <td>voucher</td>\n",
       "      <td>44.09</td>\n",
       "      <td>perfumery</td>\n",
       "      <td>2018</td>\n",
       "      <td>6</td>\n",
       "      <td>Monday</td>\n",
       "      <td>0</td>\n",
       "      <td>11</td>\n",
       "      <td>19</td>\n",
       "    </tr>\n",
       "    <tr>\n",
       "      <th>7</th>\n",
       "      <td>d02366be68b26b954269321e475a79fe</td>\n",
       "      <td>delivered</td>\n",
       "      <td>43.30</td>\n",
       "      <td>17.44</td>\n",
       "      <td>2</td>\n",
       "      <td>1</td>\n",
       "      <td>2017-08-27 15:29:59</td>\n",
       "      <td>2017-08-27 15:45:22.034556</td>\n",
       "      <td>2017-09-13 00:00:00.000000</td>\n",
       "      <td>2017-08-30 18:10:20.939031</td>\n",
       "      <td>...</td>\n",
       "      <td>1.0</td>\n",
       "      <td>credit_card</td>\n",
       "      <td>60.74</td>\n",
       "      <td>housewares</td>\n",
       "      <td>2017</td>\n",
       "      <td>8</td>\n",
       "      <td>Sunday</td>\n",
       "      <td>6</td>\n",
       "      <td>27</td>\n",
       "      <td>15</td>\n",
       "    </tr>\n",
       "    <tr>\n",
       "      <th>8</th>\n",
       "      <td>d42c3af33e0f04b3d5f012b6559e70c9</td>\n",
       "      <td>delivered</td>\n",
       "      <td>89.90</td>\n",
       "      <td>14.80</td>\n",
       "      <td>1</td>\n",
       "      <td>1</td>\n",
       "      <td>2017-03-13 15:43:08</td>\n",
       "      <td>2017-03-13 15:43:08.000000</td>\n",
       "      <td>2017-04-04 00:00:00.000000</td>\n",
       "      <td>2017-03-22 13:08:38.524197</td>\n",
       "      <td>...</td>\n",
       "      <td>1.0</td>\n",
       "      <td>credit_card</td>\n",
       "      <td>104.70</td>\n",
       "      <td>bed_bath_table</td>\n",
       "      <td>2017</td>\n",
       "      <td>3</td>\n",
       "      <td>Monday</td>\n",
       "      <td>0</td>\n",
       "      <td>13</td>\n",
       "      <td>15</td>\n",
       "    </tr>\n",
       "    <tr>\n",
       "      <th>9</th>\n",
       "      <td>92e9390c69bcb745fe059efdf93cac2a</td>\n",
       "      <td>delivered</td>\n",
       "      <td>40.00</td>\n",
       "      <td>8.88</td>\n",
       "      <td>1</td>\n",
       "      <td>1</td>\n",
       "      <td>2018-05-07 21:13:12</td>\n",
       "      <td>2018-05-07 21:31:19.636651</td>\n",
       "      <td>2018-05-17 00:00:00.000000</td>\n",
       "      <td>2018-05-10 23:25:30.303778</td>\n",
       "      <td>...</td>\n",
       "      <td>1.0</td>\n",
       "      <td>credit_card</td>\n",
       "      <td>48.88</td>\n",
       "      <td>furniture_decor</td>\n",
       "      <td>2018</td>\n",
       "      <td>5</td>\n",
       "      <td>Monday</td>\n",
       "      <td>0</td>\n",
       "      <td>7</td>\n",
       "      <td>21</td>\n",
       "    </tr>\n",
       "  </tbody>\n",
       "</table>\n",
       "<p>10 rows × 36 columns</p>\n",
       "</div>"
      ],
      "text/plain": [
       "                           order_id order_status  order_products_value  \\\n",
       "0  b95df3cef5297e79ef709ba256518f6f    delivered                349.90   \n",
       "1  59af46052a799e80e2f0c665c587731d    delivered                 15.00   \n",
       "2  a3e6136894621db402a772c6bc72a12a    delivered                238.90   \n",
       "3  b675ea5a618922f6e679e30531b8957b    delivered                 29.99   \n",
       "4  195a8be6794c487fe6cfbb97b7c61902    delivered                295.99   \n",
       "5  80dbbd6f2282898dbf912a2ec668175f    delivered                160.00   \n",
       "6  0f374228bdae432c9bdda69f21ccd261    delivered                 25.00   \n",
       "7  d02366be68b26b954269321e475a79fe    delivered                 43.30   \n",
       "8  d42c3af33e0f04b3d5f012b6559e70c9    delivered                 89.90   \n",
       "9  92e9390c69bcb745fe059efdf93cac2a    delivered                 40.00   \n",
       "\n",
       "   order_freight_value  order_items_qty  order_sellers_qty  \\\n",
       "0                13.84                1                  1   \n",
       "1                15.10                1                  1   \n",
       "2                18.00                1                  1   \n",
       "3                18.23                1                  1   \n",
       "4                47.65                1                  1   \n",
       "5                19.00                1                  1   \n",
       "6                19.09                1                  1   \n",
       "7                17.44                2                  1   \n",
       "8                14.80                1                  1   \n",
       "9                 8.88                1                  1   \n",
       "\n",
       "  order_purchase_timestamp            order_aproved_at  \\\n",
       "0      2017-01-31 17:19:01  2017-02-01 02:41:21.549551   \n",
       "1      2017-09-09 19:52:54  2017-09-10 20:03:31.535281   \n",
       "2      2017-01-30 17:00:09  2017-01-30 17:31:25.438253   \n",
       "3      2018-03-11 18:18:36  2018-03-11 18:30:37.931962   \n",
       "4      2017-04-20 08:01:08  2017-04-25 08:05:40.405383   \n",
       "5      2018-04-03 13:25:35  2018-04-03 13:48:55.262983   \n",
       "6      2018-06-11 19:45:54  2018-06-11 20:22:07.752257   \n",
       "7      2017-08-27 15:29:59  2017-08-27 15:45:22.034556   \n",
       "8      2017-03-13 15:43:08  2017-03-13 15:43:08.000000   \n",
       "9      2018-05-07 21:13:12  2018-05-07 21:31:19.636651   \n",
       "\n",
       "  order_estimated_delivery_date order_delivered_customer_date ...  sequential  \\\n",
       "0    2017-03-15 00:00:00.000000    2017-02-06 11:04:24.154259 ...         1.0   \n",
       "1    2017-10-02 00:00:00.000000    2017-09-13 20:17:41.296915 ...         1.0   \n",
       "2    2017-03-07 00:00:00.000000    2017-02-06 15:43:04.758566 ...         1.0   \n",
       "3    2018-04-03 00:00:00.000000    2018-04-03 20:36:43.778451 ...         1.0   \n",
       "4    2017-05-24 00:00:00.000000    2017-05-04 18:47:45.721758 ...         1.0   \n",
       "5    2018-05-07 00:00:00.000000    2018-04-18 23:22:45.922709 ...         1.0   \n",
       "6    2018-07-04 00:00:00.000000    2018-06-29 20:52:35.173465 ...         1.0   \n",
       "7    2017-09-13 00:00:00.000000    2017-08-30 18:10:20.939031 ...         1.0   \n",
       "8    2017-04-04 00:00:00.000000    2017-03-22 13:08:38.524197 ...         1.0   \n",
       "9    2018-05-17 00:00:00.000000    2018-05-10 23:25:30.303778 ...         1.0   \n",
       "\n",
       "  payment_type   value  product_category_name_english  year  month   weekday  \\\n",
       "0       boleto  363.74                  health_beauty  2017      1   Tuesday   \n",
       "1  credit_card   30.10          computers_accessories  2017      9  Saturday   \n",
       "2  credit_card  256.90                           auto  2017      1    Monday   \n",
       "3  credit_card   48.22                 bed_bath_table  2018      3    Sunday   \n",
       "4       boleto  343.64                furniture_decor  2017      4  Thursday   \n",
       "5  credit_card  179.00                 sports_leisure  2018      4   Tuesday   \n",
       "6      voucher   44.09                      perfumery  2018      6    Monday   \n",
       "7  credit_card   60.74                     housewares  2017      8    Sunday   \n",
       "8  credit_card  104.70                 bed_bath_table  2017      3    Monday   \n",
       "9  credit_card   48.88                furniture_decor  2018      5    Monday   \n",
       "\n",
       "   week monthday hour  \n",
       "0     1       31   17  \n",
       "1     5        9   19  \n",
       "2     0       30   17  \n",
       "3     6       11   18  \n",
       "4     3       20    8  \n",
       "5     1        3   13  \n",
       "6     0       11   19  \n",
       "7     6       27   15  \n",
       "8     0       13   15  \n",
       "9     0        7   21  \n",
       "\n",
       "[10 rows x 36 columns]"
      ]
     },
     "execution_count": 26,
     "metadata": {},
     "output_type": "execute_result"
    }
   ],
   "source": [
    "#converting order_purchase_timestamp and order_delivered_customer_date to divide them into columns year, month, monthday,weekday and hour\n",
    "order_pay_prod['order_purchase_timestamp'] =pd.to_datetime(order_pay_prod['order_purchase_timestamp'])\n",
    "order_pay_prod['order_delivered_customer_date']= pd.to_datetime(order_pay_prod['order_delivered_customer_date'])\n",
    "order_pay_prod['year'] = order_pay_prod['order_purchase_timestamp'].dt.year\n",
    "order_pay_prod['month'] = order_pay_prod['order_purchase_timestamp'].dt.month\n",
    "order_pay_prod['weekday'] = order_pay_prod['order_purchase_timestamp'].dt.weekday_name\n",
    "order_pay_prod['week'] = order_pay_prod['order_purchase_timestamp'].dt.weekday\n",
    "order_pay_prod['monthday'] = order_pay_prod['order_purchase_timestamp'].dt.day\n",
    "order_pay_prod['hour'] = order_pay_prod['order_purchase_timestamp'].dt.hour\n",
    "order_pay_prod.head(10)"
   ]
  },
  {
   "cell_type": "code",
   "execution_count": 27,
   "metadata": {},
   "outputs": [
    {
     "data": {
      "text/plain": [
       "Text(0,0.5,'Value')"
      ]
     },
     "execution_count": 27,
     "metadata": {},
     "output_type": "execute_result"
    },
    {
     "data": {
      "image/png": "[encoded data removed]",
      "text/plain": [
       "<Figure size 792x792 with 1 Axes>"
      ]
     },
     "metadata": {
      "needs_background": "light"
     },
     "output_type": "display_data"
    }
   ],
   "source": [
    "#monthly trend\n",
    "\n",
    "monthly_trend=pd.DataFrame(order_pay_prod.groupby('month').agg({'order_products_value':'mean'}).rename(columns={'order_products_value':'mean_transaction'})).reset_index()\n",
    "x1 = monthly_trend.month.tolist()\n",
    "y1 = monthly_trend.mean_transaction.tolist()\n",
    "month_name = [calendar.month_abbr[int(x)] for x in sorted(x1)]\n",
    "\n",
    "plt.figure(figsize=(11,11))\n",
    "ax=sns.barplot(x=month_name,y=y1, palette=\"deep\")\n",
    "ax.set_title(\"Average value of transaction per month\")\n",
    "ax.set_xlabel('Month')\n",
    "ax.set_ylabel('Value')\n",
    "\n"
   ]
  },
  {
   "cell_type": "code",
   "execution_count": 28,
   "metadata": {},
   "outputs": [
    {
     "data": {
      "text/plain": [
       "Text(0,0.5,'Transactional Value')"
      ]
     },
     "execution_count": 28,
     "metadata": {},
     "output_type": "execute_result"
    },
    {
     "data": {
      "image/png": "[encoded data removed]",
      "text/plain": [
       "<Figure size 792x792 with 1 Axes>"
      ]
     },
     "metadata": {
      "needs_background": "light"
     },
     "output_type": "display_data"
    }
   ],
   "source": [
    "#weekday trends on the basis of transactional value\n",
    "week_trend = pd.DataFrame(order_pay_prod.groupby('weekday').agg({'order_products_value':'mean'}).rename(columns={'order_products_value':'mean_transc'}).reset_index())\n",
    "week_list = week_trend.weekday.tolist()\n",
    "week_mean_list = week_trend.mean_transc.tolist()\n",
    "\n",
    "plt.figure(figsize=(11,11))\n",
    "wt= sns.barplot(x=week_list, y = week_mean_list, palette='rocket')\n",
    "wt.set_title(\"Weekly Transactions\")\n",
    "wt.set_xlabel(\"Weekdays\")\n",
    "wt.set_ylabel(\"Transactional Value\")"
   ]
  },
  {
   "cell_type": "code",
   "execution_count": 155,
   "metadata": {},
   "outputs": [
    {
     "data": {
      "text/plain": [
       "Text(0,0.5,'Number of Orders')"
      ]
     },
     "execution_count": 155,
     "metadata": {},
     "output_type": "execute_result"
    },
    {
     "data": {
      "image/png": "[encoded data removed]",
      "text/plain": [
       "<Figure size 792x792 with 1 Axes>"
      ]
     },
     "metadata": {
      "needs_background": "light"
     },
     "output_type": "display_data"
    }
   ],
   "source": [
    "#weekday trend on the basis of order count \n",
    "weekt_order= pd.DataFrame(order_pay_prod.groupby('weekday').agg({'order_id':'count'}).rename(columns={'order_id':'Num_Count'}).reset_index())\n",
    "#mean_orders= weekt_order['Num_count'].mena to be done\n",
    "week_count_list = weekt_order.Num_Count.tolist()\n",
    "weekday_list=weekt_order.weekday.tolist()\n",
    "\n",
    "plt.figure(figsize=(11,11))\n",
    "wo= sns.barplot(x=weekday_list, y= week_count_list, color='c')\n",
    "wo.set_title(\"Weekly Orders\")\n",
    "wo.set_xlabel(\"WeekDays\")\n",
    "wo.set_ylabel(\"Number of Orders\")\n"
   ]
  },
  {
   "cell_type": "code",
   "execution_count": 30,
   "metadata": {},
   "outputs": [
    {
     "name": "stderr",
     "output_type": "stream",
     "text": [
      "C:\\Users\\User\\Anaconda3\\lib\\site-packages\\scipy\\stats\\stats.py:1713: FutureWarning: Using a non-tuple sequence for multidimensional indexing is deprecated; use `arr[tuple(seq)]` instead of `arr[seq]`. In the future this will be interpreted as an array index, `arr[np.array(seq)]`, which will result either in an error or a different result.\n",
      "  return np.add.reduce(sorted[indexer] * weights, axis=axis) / sumval\n"
     ]
    },
    {
     "data": {
      "text/plain": [
       "Text(621.114,0.5,'Number of Orders')"
      ]
     },
     "execution_count": 30,
     "metadata": {},
     "output_type": "execute_result"
    },
    {
     "data": {
      "text/plain": [
       "<Figure size 792x792 with 0 Axes>"
      ]
     },
     "metadata": {},
     "output_type": "display_data"
    },
    {
     "data": {
      "image/png": "[encoded data removed]",
      "text/plain": [
       "<Figure size 792x792 with 3 Axes>"
      ]
     },
     "metadata": {
      "needs_background": "light"
     },
     "output_type": "display_data"
    }
   ],
   "source": [
    "#join plot number of orders and transactional value(weekley)\n",
    "weekley= pd.merge(week_trend, weekt_order, on = 'weekday', how= 'inner')\n",
    "\n",
    "plt.figure(figsize=(11,11))\n",
    "sns.jointplot(x='mean_transc', y='Num_Count', data=weekley,height=11, color='brown')\n",
    "plt.xlabel(\"Average Transactions\")\n",
    "plt.ylabel(\"Number of Orders\")\n",
    "\n"
   ]
  },
  {
   "cell_type": "code",
   "execution_count": 31,
   "metadata": {},
   "outputs": [
    {
     "data": {
      "text/plain": [
       "Text(0,0.5,'Order COunt')"
      ]
     },
     "execution_count": 31,
     "metadata": {},
     "output_type": "execute_result"
    },
    {
     "data": {
      "image/png": "[encoded data removed]",
      "text/plain": [
       "<Figure size 792x792 with 1 Axes>"
      ]
     },
     "metadata": {
      "needs_background": "light"
     },
     "output_type": "display_data"
    }
   ],
   "source": [
    "#trends by hours\n",
    "hour_t= pd.DataFrame(order_pay_prod.groupby('hour').agg({'order_id':'count'}).rename(columns={'order_id':'hourly_count'}).reset_index())\n",
    "\n",
    "plt.figure(figsize=(11,11))\n",
    "hr=sns.barplot(x=hour_t['hour'],y=hour_t['hourly_count'],palette= 'dark')\n",
    "hr.set_title(\"Hourly Orders\")\n",
    "hr.set_xlabel(\"Hours\")\n",
    "hr.set_ylabel(\"Order COunt\")"
   ]
  },
  {
   "cell_type": "code",
   "execution_count": 32,
   "metadata": {},
   "outputs": [
    {
     "data": {
      "text/plain": [
       "Text(0.5,1,'Heatmap of tranactions over the hour by day')"
      ]
     },
     "execution_count": 32,
     "metadata": {},
     "output_type": "execute_result"
    },
    {
     "data": {
      "image/png": "[encoded data removed]",
      "text/plain": [
       "<Figure size 1080x576 with 2 Axes>"
      ]
     },
     "metadata": {
      "needs_background": "light"
     },
     "output_type": "display_data"
    }
   ],
   "source": [
    "#Heatmap of tranactions over the hour by day\n",
    "hr_day= order_pay_prod.groupby(['weekday','hour']).agg({'order_id':'count'}).rename(columns={'order_id':'frequency'}).reset_index()\n",
    "#weekmap = {0:'Mon', 1:'Tue', 2:'Wed', 3:'Thu', 4:'Fri', 5:'Sat', 6:'Sun'}\n",
    "#hr_day.week = hr_day.week.map(weekmap)\n",
    "hr_day['weekday']=pd.Categorical(hr_day['weekday'],categories=['Sunday','Monday','Tuesday','Wednesday','Thursday','Friday','Saturday'],ordered=True)\n",
    "\n",
    "hr_day=hr_day.pivot('weekday','hour','frequency')\n",
    "\n",
    "\n",
    "plt.figure(figsize=(15,8))\n",
    "pt=sns.heatmap(hr_day, cmap=\"YlGnBu\")\n",
    "pt.set_xlabel(\"Hour\")\n",
    "pt.set_ylabel(\"Weekday\")\n",
    "pt.set_title(\"Heatmap of tranactions over the hour by day\")"
   ]
  },
  {
   "cell_type": "code",
   "execution_count": 33,
   "metadata": {},
   "outputs": [
    {
     "data": {
      "text/plain": [
       "0     Guaratuba\n",
       "1    Uberlandia\n",
       "2       Itapevi\n",
       "3       Goiania\n",
       "4        Recife\n",
       "Name: customer_city, dtype: object"
      ]
     },
     "execution_count": 33,
     "metadata": {},
     "output_type": "execute_result"
    }
   ],
   "source": [
    "#merging data with geolocations\n",
    "geo_zip_city= pd.DataFrame(geo.groupby('zip_code_prefix').agg({'lat':'mean','lng':'mean'}).reset_index())\n",
    "order_pay_prod=order_pay_prod.rename(columns={'customer_zip_code_prefix':'zip_code_prefix'})\n",
    "order_pay_prod_geo = pd.merge(order_pay_prod,geo_zip_city, how = \"left\", on = ['zip_code_prefix','zip_code_prefix'])\n",
    "order_pay_prod_geo.head()\n",
    "#geo_zip.info()\n",
    "order_pay_prod_geo['customer_city'].head()\n",
    "\n"
   ]
  },
  {
   "cell_type": "code",
   "execution_count": 34,
   "metadata": {},
   "outputs": [
    {
     "data": {
      "text/plain": [
       "Text(0.5,1,'Average Transaction Value for each state')"
      ]
     },
     "execution_count": 34,
     "metadata": {},
     "output_type": "execute_result"
    },
    {
     "data": {
      "image/png": "[encoded data removed]",
      "text/plain": [
       "<Figure size 720x504 with 1 Axes>"
      ]
     },
     "metadata": {
      "needs_background": "light"
     },
     "output_type": "display_data"
    }
   ],
   "source": [
    "#city and state transactional value\n",
    "state_transaction=pd.DataFrame(order_pay_prod.groupby('customer_state').agg({'order_products_value':'mean'}).rename(columns={'order_products_value':'avg_trans'}).sort_values(by='avg_trans',ascending=False)).reset_index()\n",
    "plt.figure(figsize=(10,7))\n",
    "ax=sns.barplot(x='customer_state',y='avg_trans',data=state_transaction,palette=sns.color_palette(palette=\"viridis_r\"))\n",
    "ax.set_xlabel('Customer State')\n",
    "ax.set_xticklabels(ax.get_xticklabels(),rotation=90)\n",
    "ax.set_ylabel('Avg transaction value')\n",
    "ax.set_title(\"Average Transaction Value for each state\")"
   ]
  },
  {
   "cell_type": "code",
   "execution_count": 35,
   "metadata": {},
   "outputs": [
    {
     "data": {
      "text/plain": [
       "Text(0.5,1,'Top 10 - Average Transaction Value for each City')"
      ]
     },
     "execution_count": 35,
     "metadata": {},
     "output_type": "execute_result"
    },
    {
     "data": {
      "image/png": "[encoded data removed]",
      "text/plain": [
       "<Figure size 720x504 with 1 Axes>"
      ]
     },
     "metadata": {
      "needs_background": "light"
     },
     "output_type": "display_data"
    }
   ],
   "source": [
    "city_transaction=pd.DataFrame(order_pay_prod.groupby('customer_city').agg({'order_products_value':'mean'}).rename(columns={'order_products_value':'avg_trans'}).sort_values(by='avg_trans',ascending=False)).reset_index()\n",
    "plt.figure(figsize=(10,7))\n",
    "ax=sns.barplot(x='customer_city',y='avg_trans',data=city_transaction[:10],palette=sns.color_palette(palette=\"Set2\"))\n",
    "ax.set_xlabel('Customer City')\n",
    "ax.set_xticklabels(ax.get_xticklabels(),rotation=90)\n",
    "ax.set_ylabel('Avg transaction value')\n",
    "ax.set_title(\"Top 10 - Average Transaction Value for each City\")"
   ]
  },
  {
   "cell_type": "code",
   "execution_count": 36,
   "metadata": {},
   "outputs": [
    {
     "name": "stdout",
     "output_type": "stream",
     "text": [
      "Average days to delivery 12.0\n"
     ]
    }
   ],
   "source": [
    "#order delivery\n",
    "order_pay_prod['day_to_delivery']=(order_pay_prod['order_delivered_customer_date']-order_pay_prod['order_purchase_timestamp']).dt.days\n",
    "print(\"Average days to delivery {}\".format(np.round(order_pay_prod['day_to_delivery'].mean(),0)))"
   ]
  },
  {
   "cell_type": "raw",
   "metadata": {},
   "source": [
    "More Insights(map_plot with plotly), RFM model will be coming as data suggests."
   ]
  },
  {
   "cell_type": "code",
   "execution_count": 37,
   "metadata": {},
   "outputs": [
    {
     "name": "stdout",
     "output_type": "stream",
     "text": [
      "<class 'pandas.core.frame.DataFrame'>\n",
      "Int64Index: 104433 entries, 0 to 104432\n",
      "Data columns (total 37 columns):\n",
      "order_id                         104433 non-null object\n",
      "order_status                     104433 non-null object\n",
      "order_products_value             104433 non-null float64\n",
      "order_freight_value              104433 non-null float64\n",
      "order_items_qty                  104433 non-null int64\n",
      "order_sellers_qty                104433 non-null int64\n",
      "order_purchase_timestamp         104433 non-null datetime64[ns]\n",
      "order_aproved_at                 104415 non-null object\n",
      "order_estimated_delivery_date    104433 non-null object\n",
      "order_delivered_customer_date    101910 non-null datetime64[ns]\n",
      "customer_id                      104433 non-null object\n",
      "customer_city                    104433 non-null object\n",
      "customer_state                   104433 non-null object\n",
      "zip_code_prefix                  104433 non-null int64\n",
      "product_category_name            104433 non-null object\n",
      "product_name_lenght              104433 non-null int64\n",
      "product_description_lenght       104433 non-null int64\n",
      "product_photos_qty               104433 non-null int64\n",
      "product_id                       104433 non-null object\n",
      "review_id                        104433 non-null object\n",
      "review_score                     104433 non-null int64\n",
      "review_comment_title             8585 non-null object\n",
      "review_comment_message           44368 non-null object\n",
      "review_creation_date             104433 non-null object\n",
      "review_answer_timestamp          104433 non-null object\n",
      "installments                     97433 non-null float64\n",
      "sequential                       97433 non-null float64\n",
      "payment_type                     97433 non-null object\n",
      "value                            97433 non-null float64\n",
      "product_category_name_english    104433 non-null object\n",
      "year                             104433 non-null int64\n",
      "month                            104433 non-null int64\n",
      "weekday                          104433 non-null object\n",
      "week                             104433 non-null int64\n",
      "monthday                         104433 non-null int64\n",
      "hour                             104433 non-null int64\n",
      "day_to_delivery                  101910 non-null float64\n",
      "dtypes: datetime64[ns](2), float64(6), int64(12), object(17)\n",
      "memory usage: 30.3+ MB\n"
     ]
    }
   ],
   "source": [
    "order_pay_prod.info()"
   ]
  },
  {
   "cell_type": "code",
   "execution_count": 43,
   "metadata": {},
   "outputs": [
    {
     "name": "stdout",
     "output_type": "stream",
     "text": [
      "customer_unique_id    92516\n",
      "dtype: int64\n",
      "order_id    96264\n",
      "dtype: int64\n"
     ]
    }
   ],
   "source": [
    "order_pay_prod_geo_cust= pd.merge(order_pay_prod_geo,customer, how= 'left', on=['customer_id','customer_id'])\n",
    "print(order_pay_prod_geo_cust[['customer_unique_id']].nunique())\n",
    "print(order_pay_prod_geo_cust[['order_id']].nunique())"
   ]
  },
  {
   "cell_type": "markdown",
   "metadata": {},
   "source": [
    "# RFM"
   ]
  },
  {
   "cell_type": "code",
   "execution_count": 45,
   "metadata": {},
   "outputs": [
    {
     "data": {
      "text/plain": [
       "Timestamp('2018-09-28 10:54:31')"
      ]
     },
     "execution_count": 45,
     "metadata": {},
     "output_type": "execute_result"
    }
   ],
   "source": [
    "order_pay_prod_geo_cust['order_purchase_timestamp'].max()"
   ]
  },
  {
   "cell_type": "code",
   "execution_count": 90,
   "metadata": {},
   "outputs": [
    {
     "data": {
      "text/html": [
       "<div>\n",
       "<style scoped>\n",
       "    .dataframe tbody tr th:only-of-type {\n",
       "        vertical-align: middle;\n",
       "    }\n",
       "\n",
       "    .dataframe tbody tr th {\n",
       "        vertical-align: top;\n",
       "    }\n",
       "\n",
       "    .dataframe thead th {\n",
       "        text-align: right;\n",
       "    }\n",
       "</style>\n",
       "<table border=\"1\" class=\"dataframe\">\n",
       "  <thead>\n",
       "    <tr style=\"text-align: right;\">\n",
       "      <th></th>\n",
       "      <th>customer_unique_id</th>\n",
       "      <th>order_purchase_timestamp</th>\n",
       "    </tr>\n",
       "  </thead>\n",
       "  <tbody>\n",
       "    <tr>\n",
       "      <th>0</th>\n",
       "      <td>000329c0b406d30f7e92fbd6a88a009e</td>\n",
       "      <td>2017-02-27 12:11:10</td>\n",
       "    </tr>\n",
       "    <tr>\n",
       "      <th>1</th>\n",
       "      <td>0003418b36ed466545169cac383b59b4</td>\n",
       "      <td>2017-10-07 14:58:15</td>\n",
       "    </tr>\n",
       "    <tr>\n",
       "      <th>2</th>\n",
       "      <td>000446ff827ee6397d0f00816d6a1fb2</td>\n",
       "      <td>2017-10-20 12:58:35</td>\n",
       "    </tr>\n",
       "    <tr>\n",
       "      <th>3</th>\n",
       "      <td>0004983adf3647e6c0bf708af02e94e4</td>\n",
       "      <td>2017-10-04 23:25:51</td>\n",
       "    </tr>\n",
       "    <tr>\n",
       "      <th>4</th>\n",
       "      <td>0004e8eb194ba10ce76319ad18b09a5c</td>\n",
       "      <td>2018-03-27 11:26:05</td>\n",
       "    </tr>\n",
       "  </tbody>\n",
       "</table>\n",
       "</div>"
      ],
      "text/plain": [
       "                 customer_unique_id order_purchase_timestamp\n",
       "0  000329c0b406d30f7e92fbd6a88a009e      2017-02-27 12:11:10\n",
       "1  0003418b36ed466545169cac383b59b4      2017-10-07 14:58:15\n",
       "2  000446ff827ee6397d0f00816d6a1fb2      2017-10-20 12:58:35\n",
       "3  0004983adf3647e6c0bf708af02e94e4      2017-10-04 23:25:51\n",
       "4  0004e8eb194ba10ce76319ad18b09a5c      2018-03-27 11:26:05"
      ]
     },
     "execution_count": 90,
     "metadata": {},
     "output_type": "execute_result"
    }
   ],
   "source": [
    "recency_df = order_pay_prod_geo_cust.groupby(by='customer_unique_id', as_index= False)['order_purchase_timestamp'].max()\n",
    "recency_df.columns = ['customer_unique_id','order_purchase_timestamp']\n",
    "recency_df.head()"
   ]
  },
  {
   "cell_type": "code",
   "execution_count": 91,
   "metadata": {},
   "outputs": [
    {
     "data": {
      "text/plain": [
       "datetime.date(2018, 9, 28)"
      ]
     },
     "execution_count": 91,
     "metadata": {},
     "output_type": "execute_result"
    }
   ],
   "source": [
    "recency_df['date']=[d.date() for d in recency_df['order_purchase_timestamp']]\n",
    "\n",
    "recency_df.drop('order_purchase_timestamp', axis=1,inplace= True)\n",
    "recency_df['date'].max()"
   ]
  },
  {
   "cell_type": "code",
   "execution_count": 56,
   "metadata": {},
   "outputs": [
    {
     "name": "stdout",
     "output_type": "stream",
     "text": [
      "2018-09-28\n"
     ]
    }
   ],
   "source": [
    "#we will use it for refernce\n",
    "now= dt.date(2018,9,28)\n",
    "print(now)"
   ]
  },
  {
   "cell_type": "code",
   "execution_count": 108,
   "metadata": {},
   "outputs": [
    {
     "data": {
      "text/html": [
       "<div>\n",
       "<style scoped>\n",
       "    .dataframe tbody tr th:only-of-type {\n",
       "        vertical-align: middle;\n",
       "    }\n",
       "\n",
       "    .dataframe tbody tr th {\n",
       "        vertical-align: top;\n",
       "    }\n",
       "\n",
       "    .dataframe thead th {\n",
       "        text-align: right;\n",
       "    }\n",
       "</style>\n",
       "<table border=\"1\" class=\"dataframe\">\n",
       "  <thead>\n",
       "    <tr style=\"text-align: right;\">\n",
       "      <th></th>\n",
       "      <th>customer_unique_id</th>\n",
       "      <th>Recency</th>\n",
       "    </tr>\n",
       "  </thead>\n",
       "  <tbody>\n",
       "    <tr>\n",
       "      <th>58377</th>\n",
       "      <td>a18200297fa8c34eb4026fe8e9199e4f</td>\n",
       "      <td>754</td>\n",
       "    </tr>\n",
       "    <tr>\n",
       "      <th>85170</th>\n",
       "      <td>eb64ef2d9c972ddc3566469b4bc7b719</td>\n",
       "      <td>753</td>\n",
       "    </tr>\n",
       "    <tr>\n",
       "      <th>59500</th>\n",
       "      <td>a49ec569381c0119996f2aa03f0fb5cb</td>\n",
       "      <td>743</td>\n",
       "    </tr>\n",
       "    <tr>\n",
       "      <th>51449</th>\n",
       "      <td>8e0567ef5c1580a740f050e098b149eb</td>\n",
       "      <td>743</td>\n",
       "    </tr>\n",
       "    <tr>\n",
       "      <th>20345</th>\n",
       "      <td>381cb0b3cb82b5b8077a3627c8612758</td>\n",
       "      <td>743</td>\n",
       "    </tr>\n",
       "    <tr>\n",
       "      <th>5676</th>\n",
       "      <td>0fb41140df2aa9c20a5c04d9aed02e93</td>\n",
       "      <td>726</td>\n",
       "    </tr>\n",
       "    <tr>\n",
       "      <th>49900</th>\n",
       "      <td>89bfd208700b28f8437a3719437ee47c</td>\n",
       "      <td>725</td>\n",
       "    </tr>\n",
       "    <tr>\n",
       "      <th>89130</th>\n",
       "      <td>f67fbf5e23f401ee37c4adbb3d50346a</td>\n",
       "      <td>725</td>\n",
       "    </tr>\n",
       "    <tr>\n",
       "      <th>89059</th>\n",
       "      <td>f648d448c4d9a86e8a66f118a8d9e8ab</td>\n",
       "      <td>725</td>\n",
       "    </tr>\n",
       "    <tr>\n",
       "      <th>27192</th>\n",
       "      <td>4b0e377232b2e8cfbf95fb445d072bac</td>\n",
       "      <td>725</td>\n",
       "    </tr>\n",
       "  </tbody>\n",
       "</table>\n",
       "</div>"
      ],
      "text/plain": [
       "                     customer_unique_id  Recency\n",
       "58377  a18200297fa8c34eb4026fe8e9199e4f      754\n",
       "85170  eb64ef2d9c972ddc3566469b4bc7b719      753\n",
       "59500  a49ec569381c0119996f2aa03f0fb5cb      743\n",
       "51449  8e0567ef5c1580a740f050e098b149eb      743\n",
       "20345  381cb0b3cb82b5b8077a3627c8612758      743\n",
       "5676   0fb41140df2aa9c20a5c04d9aed02e93      726\n",
       "49900  89bfd208700b28f8437a3719437ee47c      725\n",
       "89130  f67fbf5e23f401ee37c4adbb3d50346a      725\n",
       "89059  f648d448c4d9a86e8a66f118a8d9e8ab      725\n",
       "27192  4b0e377232b2e8cfbf95fb445d072bac      725"
      ]
     },
     "execution_count": 108,
     "metadata": {},
     "output_type": "execute_result"
    }
   ],
   "source": [
    "recency_df['Recency'] = recency_df['date'].apply(lambda x: (now - x).days)\n",
    "recency_df.drop('date', axis=1,inplace= True)\n",
    "recency_df.sort_values(by= 'Recency',ascending=False).head(10)\n"
   ]
  },
  {
   "cell_type": "code",
   "execution_count": 156,
   "metadata": {},
   "outputs": [
    {
     "data": {
      "text/html": [
       "<div>\n",
       "<style scoped>\n",
       "    .dataframe tbody tr th:only-of-type {\n",
       "        vertical-align: middle;\n",
       "    }\n",
       "\n",
       "    .dataframe tbody tr th {\n",
       "        vertical-align: top;\n",
       "    }\n",
       "\n",
       "    .dataframe thead th {\n",
       "        text-align: right;\n",
       "    }\n",
       "</style>\n",
       "<table border=\"1\" class=\"dataframe\">\n",
       "  <thead>\n",
       "    <tr style=\"text-align: right;\">\n",
       "      <th></th>\n",
       "      <th>customer_unique_id</th>\n",
       "      <th>frequency</th>\n",
       "    </tr>\n",
       "  </thead>\n",
       "  <tbody>\n",
       "    <tr>\n",
       "      <th>92248</th>\n",
       "      <td>ff4ea78481e00334563aea6d1681f496</td>\n",
       "      <td>10</td>\n",
       "    </tr>\n",
       "    <tr>\n",
       "      <th>65779</th>\n",
       "      <td>b6169cb608e0a9d1b0ed53b93fe21713</td>\n",
       "      <td>10</td>\n",
       "    </tr>\n",
       "    <tr>\n",
       "      <th>52643</th>\n",
       "      <td>915f2fe0968adc3e5a76d70ca9326bf5</td>\n",
       "      <td>9</td>\n",
       "    </tr>\n",
       "    <tr>\n",
       "      <th>27836</th>\n",
       "      <td>4cc4fa5148dca9dd9570607562cffc0e</td>\n",
       "      <td>8</td>\n",
       "    </tr>\n",
       "    <tr>\n",
       "      <th>43272</th>\n",
       "      <td>779ab1cce17159b31d6a0a4694644455</td>\n",
       "      <td>8</td>\n",
       "    </tr>\n",
       "    <tr>\n",
       "      <th>13757</th>\n",
       "      <td>262488d8e925a2e0d343c1834ad05986</td>\n",
       "      <td>7</td>\n",
       "    </tr>\n",
       "    <tr>\n",
       "      <th>92042</th>\n",
       "      <td>fea959ffb276f0e5a9126f057748e153</td>\n",
       "      <td>7</td>\n",
       "    </tr>\n",
       "    <tr>\n",
       "      <th>71876</th>\n",
       "      <td>c6fb06129d290690c3f548417b6770ee</td>\n",
       "      <td>7</td>\n",
       "    </tr>\n",
       "    <tr>\n",
       "      <th>71104</th>\n",
       "      <td>c4eb922ad36837ae004274022bf696eb</td>\n",
       "      <td>7</td>\n",
       "    </tr>\n",
       "    <tr>\n",
       "      <th>61440</th>\n",
       "      <td>aa241ccd03ec28c5421b318fef927b98</td>\n",
       "      <td>7</td>\n",
       "    </tr>\n",
       "  </tbody>\n",
       "</table>\n",
       "</div>"
      ],
      "text/plain": [
       "                     customer_unique_id  frequency\n",
       "92248  ff4ea78481e00334563aea6d1681f496         10\n",
       "65779  b6169cb608e0a9d1b0ed53b93fe21713         10\n",
       "52643  915f2fe0968adc3e5a76d70ca9326bf5          9\n",
       "27836  4cc4fa5148dca9dd9570607562cffc0e          8\n",
       "43272  779ab1cce17159b31d6a0a4694644455          8\n",
       "13757  262488d8e925a2e0d343c1834ad05986          7\n",
       "92042  fea959ffb276f0e5a9126f057748e153          7\n",
       "71876  c6fb06129d290690c3f548417b6770ee          7\n",
       "71104  c4eb922ad36837ae004274022bf696eb          7\n",
       "61440  aa241ccd03ec28c5421b318fef927b98          7"
      ]
     },
     "execution_count": 156,
     "metadata": {},
     "output_type": "execute_result"
    }
   ],
   "source": [
    "#Frequency: Frequqency will tell us how many times a customer ordered, for that we have to calculate different order_id for a customer\n",
    "order_pay_prod_geo_cust_v1 = order_pay_prod_geo_cust\n",
    "order_pay_prod_geo_cust_v1.drop_duplicates(subset=['order_id','customer_unique_id'],keep='first', inplace= True)\n",
    "#calulating frequency\n",
    "freq_df= order_pay_prod_geo_cust_v1.groupby(by=['customer_unique_id'], as_index= False)['order_id'].count()\n",
    "freq_df.columns=['customer_unique_id','frequency']\n",
    "freq_df.sort_values(by='frequency',ascending=False).head(10)\n",
    "\n",
    "\n"
   ]
  },
  {
   "cell_type": "code",
   "execution_count": 106,
   "metadata": {},
   "outputs": [
    {
     "data": {
      "text/html": [
       "<div>\n",
       "<style scoped>\n",
       "    .dataframe tbody tr th:only-of-type {\n",
       "        vertical-align: middle;\n",
       "    }\n",
       "\n",
       "    .dataframe tbody tr th {\n",
       "        vertical-align: top;\n",
       "    }\n",
       "\n",
       "    .dataframe thead th {\n",
       "        text-align: right;\n",
       "    }\n",
       "</style>\n",
       "<table border=\"1\" class=\"dataframe\">\n",
       "  <thead>\n",
       "    <tr style=\"text-align: right;\">\n",
       "      <th></th>\n",
       "      <th>value</th>\n",
       "      <th>order_products_value</th>\n",
       "      <th>order_id</th>\n",
       "      <th>order_items_qty</th>\n",
       "    </tr>\n",
       "  </thead>\n",
       "  <tbody>\n",
       "    <tr>\n",
       "      <th>0</th>\n",
       "      <td>363.74</td>\n",
       "      <td>349.90</td>\n",
       "      <td>b95df3cef5297e79ef709ba256518f6f</td>\n",
       "      <td>1</td>\n",
       "    </tr>\n",
       "    <tr>\n",
       "      <th>67674</th>\n",
       "      <td>140.49</td>\n",
       "      <td>89.99</td>\n",
       "      <td>e9c4c61fc2e0849ca2bf702265e47c91</td>\n",
       "      <td>1</td>\n",
       "    </tr>\n",
       "    <tr>\n",
       "      <th>67673</th>\n",
       "      <td>152.17</td>\n",
       "      <td>139.99</td>\n",
       "      <td>c08d66a6714c940c505deae9b3916bcf</td>\n",
       "      <td>1</td>\n",
       "    </tr>\n",
       "    <tr>\n",
       "      <th>67672</th>\n",
       "      <td>123.73</td>\n",
       "      <td>104.90</td>\n",
       "      <td>5d15ec992a829ae0c5a53d8e6030f08f</td>\n",
       "      <td>1</td>\n",
       "    </tr>\n",
       "    <tr>\n",
       "      <th>67669</th>\n",
       "      <td>12.87</td>\n",
       "      <td>21.99</td>\n",
       "      <td>4212c4acae39b267aabc4696d873cbcf</td>\n",
       "      <td>1</td>\n",
       "    </tr>\n",
       "  </tbody>\n",
       "</table>\n",
       "</div>"
      ],
      "text/plain": [
       "        value  order_products_value                          order_id  \\\n",
       "0      363.74                349.90  b95df3cef5297e79ef709ba256518f6f   \n",
       "67674  140.49                 89.99  e9c4c61fc2e0849ca2bf702265e47c91   \n",
       "67673  152.17                139.99  c08d66a6714c940c505deae9b3916bcf   \n",
       "67672  123.73                104.90  5d15ec992a829ae0c5a53d8e6030f08f   \n",
       "67669   12.87                 21.99  4212c4acae39b267aabc4696d873cbcf   \n",
       "\n",
       "       order_items_qty  \n",
       "0                    1  \n",
       "67674                1  \n",
       "67673                1  \n",
       "67672                1  \n",
       "67669                1  "
      ]
     },
     "execution_count": 106,
     "metadata": {},
     "output_type": "execute_result"
    }
   ],
   "source": [
    "order_pay_prod_geo_cust[['value','order_products_value','order_id','order_items_qty']].head()"
   ]
  },
  {
   "cell_type": "code",
   "execution_count": 157,
   "metadata": {},
   "outputs": [
    {
     "data": {
      "text/html": [
       "<div>\n",
       "<style scoped>\n",
       "    .dataframe tbody tr th:only-of-type {\n",
       "        vertical-align: middle;\n",
       "    }\n",
       "\n",
       "    .dataframe tbody tr th {\n",
       "        vertical-align: top;\n",
       "    }\n",
       "\n",
       "    .dataframe thead th {\n",
       "        text-align: right;\n",
       "    }\n",
       "</style>\n",
       "<table border=\"1\" class=\"dataframe\">\n",
       "  <thead>\n",
       "    <tr style=\"text-align: right;\">\n",
       "      <th></th>\n",
       "      <th>customer_unique_id</th>\n",
       "      <th>Monetary</th>\n",
       "    </tr>\n",
       "  </thead>\n",
       "  <tbody>\n",
       "    <tr>\n",
       "      <th>0</th>\n",
       "      <td>000329c0b406d30f7e92fbd6a88a009e</td>\n",
       "      <td>43.25</td>\n",
       "    </tr>\n",
       "    <tr>\n",
       "      <th>1</th>\n",
       "      <td>0003418b36ed466545169cac383b59b4</td>\n",
       "      <td>76.02</td>\n",
       "    </tr>\n",
       "    <tr>\n",
       "      <th>2</th>\n",
       "      <td>000446ff827ee6397d0f00816d6a1fb2</td>\n",
       "      <td>122.98</td>\n",
       "    </tr>\n",
       "    <tr>\n",
       "      <th>3</th>\n",
       "      <td>0004983adf3647e6c0bf708af02e94e4</td>\n",
       "      <td>38.78</td>\n",
       "    </tr>\n",
       "    <tr>\n",
       "      <th>4</th>\n",
       "      <td>0004e8eb194ba10ce76319ad18b09a5c</td>\n",
       "      <td>113.30</td>\n",
       "    </tr>\n",
       "    <tr>\n",
       "      <th>5</th>\n",
       "      <td>000582d689d51a072c64c56aa9f9e6fd</td>\n",
       "      <td>57.72</td>\n",
       "    </tr>\n",
       "    <tr>\n",
       "      <th>6</th>\n",
       "      <td>000592aca1e2a140b152d0e81d3c2a22</td>\n",
       "      <td>357.90</td>\n",
       "    </tr>\n",
       "    <tr>\n",
       "      <th>7</th>\n",
       "      <td>000627108229dbae094b1a65dc114589</td>\n",
       "      <td>53.50</td>\n",
       "    </tr>\n",
       "    <tr>\n",
       "      <th>8</th>\n",
       "      <td>0006b4b973b90367b61f44e0c4df202e</td>\n",
       "      <td>143.83</td>\n",
       "    </tr>\n",
       "    <tr>\n",
       "      <th>9</th>\n",
       "      <td>000742f2f672341c860e2b2ef2d29a07</td>\n",
       "      <td>45.78</td>\n",
       "    </tr>\n",
       "  </tbody>\n",
       "</table>\n",
       "</div>"
      ],
      "text/plain": [
       "                 customer_unique_id  Monetary\n",
       "0  000329c0b406d30f7e92fbd6a88a009e     43.25\n",
       "1  0003418b36ed466545169cac383b59b4     76.02\n",
       "2  000446ff827ee6397d0f00816d6a1fb2    122.98\n",
       "3  0004983adf3647e6c0bf708af02e94e4     38.78\n",
       "4  0004e8eb194ba10ce76319ad18b09a5c    113.30\n",
       "5  000582d689d51a072c64c56aa9f9e6fd     57.72\n",
       "6  000592aca1e2a140b152d0e81d3c2a22    357.90\n",
       "7  000627108229dbae094b1a65dc114589     53.50\n",
       "8  0006b4b973b90367b61f44e0c4df202e    143.83\n",
       "9  000742f2f672341c860e2b2ef2d29a07     45.78"
      ]
     },
     "execution_count": 157,
     "metadata": {},
     "output_type": "execute_result"
    }
   ],
   "source": [
    "#monetary:How much money did the customer spent over time\n",
    "#considering value as final amount after all calculations\n",
    "monetary_df = order_pay_prod_geo_cust.groupby(by='customer_unique_id', as_index= False).agg({'value':'sum'})\n",
    "monetary_df.columns=['customer_unique_id','Monetary']\n",
    "monetary_df.head(10)"
   ]
  },
  {
   "cell_type": "code",
   "execution_count": 158,
   "metadata": {},
   "outputs": [
    {
     "data": {
      "text/html": [
       "<div>\n",
       "<style scoped>\n",
       "    .dataframe tbody tr th:only-of-type {\n",
       "        vertical-align: middle;\n",
       "    }\n",
       "\n",
       "    .dataframe tbody tr th {\n",
       "        vertical-align: top;\n",
       "    }\n",
       "\n",
       "    .dataframe thead th {\n",
       "        text-align: right;\n",
       "    }\n",
       "</style>\n",
       "<table border=\"1\" class=\"dataframe\">\n",
       "  <thead>\n",
       "    <tr style=\"text-align: right;\">\n",
       "      <th></th>\n",
       "      <th>Recency</th>\n",
       "      <th>frequency</th>\n",
       "      <th>Monetary</th>\n",
       "    </tr>\n",
       "    <tr>\n",
       "      <th>customer_unique_id</th>\n",
       "      <th></th>\n",
       "      <th></th>\n",
       "      <th></th>\n",
       "    </tr>\n",
       "  </thead>\n",
       "  <tbody>\n",
       "    <tr>\n",
       "      <th>000329c0b406d30f7e92fbd6a88a009e</th>\n",
       "      <td>578</td>\n",
       "      <td>1</td>\n",
       "      <td>43.25</td>\n",
       "    </tr>\n",
       "    <tr>\n",
       "      <th>0003418b36ed466545169cac383b59b4</th>\n",
       "      <td>356</td>\n",
       "      <td>1</td>\n",
       "      <td>76.02</td>\n",
       "    </tr>\n",
       "    <tr>\n",
       "      <th>000446ff827ee6397d0f00816d6a1fb2</th>\n",
       "      <td>343</td>\n",
       "      <td>1</td>\n",
       "      <td>122.98</td>\n",
       "    </tr>\n",
       "    <tr>\n",
       "      <th>0004983adf3647e6c0bf708af02e94e4</th>\n",
       "      <td>359</td>\n",
       "      <td>1</td>\n",
       "      <td>38.78</td>\n",
       "    </tr>\n",
       "    <tr>\n",
       "      <th>0004e8eb194ba10ce76319ad18b09a5c</th>\n",
       "      <td>185</td>\n",
       "      <td>1</td>\n",
       "      <td>113.30</td>\n",
       "    </tr>\n",
       "    <tr>\n",
       "      <th>000582d689d51a072c64c56aa9f9e6fd</th>\n",
       "      <td>575</td>\n",
       "      <td>1</td>\n",
       "      <td>57.72</td>\n",
       "    </tr>\n",
       "    <tr>\n",
       "      <th>000592aca1e2a140b152d0e81d3c2a22</th>\n",
       "      <td>298</td>\n",
       "      <td>1</td>\n",
       "      <td>357.90</td>\n",
       "    </tr>\n",
       "    <tr>\n",
       "      <th>000627108229dbae094b1a65dc114589</th>\n",
       "      <td>253</td>\n",
       "      <td>1</td>\n",
       "      <td>53.50</td>\n",
       "    </tr>\n",
       "    <tr>\n",
       "      <th>0006b4b973b90367b61f44e0c4df202e</th>\n",
       "      <td>473</td>\n",
       "      <td>1</td>\n",
       "      <td>143.83</td>\n",
       "    </tr>\n",
       "    <tr>\n",
       "      <th>000742f2f672341c860e2b2ef2d29a07</th>\n",
       "      <td>233</td>\n",
       "      <td>1</td>\n",
       "      <td>45.78</td>\n",
       "    </tr>\n",
       "  </tbody>\n",
       "</table>\n",
       "</div>"
      ],
      "text/plain": [
       "                                  Recency  frequency  Monetary\n",
       "customer_unique_id                                            \n",
       "000329c0b406d30f7e92fbd6a88a009e      578          1     43.25\n",
       "0003418b36ed466545169cac383b59b4      356          1     76.02\n",
       "000446ff827ee6397d0f00816d6a1fb2      343          1    122.98\n",
       "0004983adf3647e6c0bf708af02e94e4      359          1     38.78\n",
       "0004e8eb194ba10ce76319ad18b09a5c      185          1    113.30\n",
       "000582d689d51a072c64c56aa9f9e6fd      575          1     57.72\n",
       "000592aca1e2a140b152d0e81d3c2a22      298          1    357.90\n",
       "000627108229dbae094b1a65dc114589      253          1     53.50\n",
       "0006b4b973b90367b61f44e0c4df202e      473          1    143.83\n",
       "000742f2f672341c860e2b2ef2d29a07      233          1     45.78"
      ]
     },
     "execution_count": 158,
     "metadata": {},
     "output_type": "execute_result"
    }
   ],
   "source": [
    "#merging recency, frequency and monetary dataframes\n",
    "tmp_df= recency_df.merge(freq_df, on='customer_unique_id')\n",
    "rfm_df=tmp_df.merge(monetary_df, on='customer_unique_id')\n",
    "rfm_df.set_index('customer_unique_id',inplace = True)\n",
    "rfm_df.head(10)"
   ]
  },
  {
   "cell_type": "code",
   "execution_count": 118,
   "metadata": {},
   "outputs": [
    {
     "data": {
      "text/html": [
       "<div>\n",
       "<style scoped>\n",
       "    .dataframe tbody tr th:only-of-type {\n",
       "        vertical-align: middle;\n",
       "    }\n",
       "\n",
       "    .dataframe tbody tr th {\n",
       "        vertical-align: top;\n",
       "    }\n",
       "\n",
       "    .dataframe thead th {\n",
       "        text-align: right;\n",
       "    }\n",
       "</style>\n",
       "<table border=\"1\" class=\"dataframe\">\n",
       "  <thead>\n",
       "    <tr style=\"text-align: right;\">\n",
       "      <th></th>\n",
       "      <th>Recency</th>\n",
       "      <th>frequency</th>\n",
       "      <th>Monetary</th>\n",
       "    </tr>\n",
       "  </thead>\n",
       "  <tbody>\n",
       "    <tr>\n",
       "      <th>0.25</th>\n",
       "      <td>189.0</td>\n",
       "      <td>1.0</td>\n",
       "      <td>60.01</td>\n",
       "    </tr>\n",
       "    <tr>\n",
       "      <th>0.50</th>\n",
       "      <td>307.0</td>\n",
       "      <td>1.0</td>\n",
       "      <td>102.87</td>\n",
       "    </tr>\n",
       "    <tr>\n",
       "      <th>0.75</th>\n",
       "      <td>430.0</td>\n",
       "      <td>1.0</td>\n",
       "      <td>175.64</td>\n",
       "    </tr>\n",
       "  </tbody>\n",
       "</table>\n",
       "</div>"
      ],
      "text/plain": [
       "      Recency  frequency  Monetary\n",
       "0.25    189.0        1.0     60.01\n",
       "0.50    307.0        1.0    102.87\n",
       "0.75    430.0        1.0    175.64"
      ]
     },
     "execution_count": 118,
     "metadata": {},
     "output_type": "execute_result"
    }
   ],
   "source": [
    "#customer segments with rfm model\n",
    "quantiles=rfm_df.quantile(q=[0.25,0.50,0.75])\n",
    "quantiles"
   ]
  },
  {
   "cell_type": "code",
   "execution_count": 117,
   "metadata": {},
   "outputs": [
    {
     "data": {
      "text/plain": [
       "{'Recency': {0.25: 189.0, 0.5: 307.0, 0.75: 430.0},\n",
       " 'frequency': {0.25: 1.0, 0.5: 1.0, 0.75: 1.0},\n",
       " 'Monetary': {0.25: 60.01, 0.5: 102.87, 0.75: 175.64}}"
      ]
     },
     "execution_count": 117,
     "metadata": {},
     "output_type": "execute_result"
    }
   ],
   "source": [
    "quantiles.to_dict()"
   ]
  },
  {
   "cell_type": "code",
   "execution_count": 129,
   "metadata": {},
   "outputs": [],
   "source": [
    "#creation of RFM segments: two segmentation classes will be created on the basis of quantiles as high recency is bad for business and hig monetary and frequency is good for business\n",
    "## Arguments (x = value, p = recency, monetary_value, frequency, d = quartiles dict)\n",
    "def rscore(x,p,d):\n",
    "    if x<=d[p][0.25]:\n",
    "        return 4\n",
    "    elif x<=d[p][0.50]:\n",
    "        return 3\n",
    "    elif x<=d[p][0.75]:\n",
    "        return 2\n",
    "    else:\n",
    "        return 1\n",
    "def fmscore(x,p,d):\n",
    "    if x<=d[p][0.25]:\n",
    "        return 1\n",
    "    elif x<=d[p][0.50]:\n",
    "        return 2\n",
    "    elif x<=d[p][0.75]:\n",
    "        return 3\n",
    "    else:\n",
    "        return 4"
   ]
  },
  {
   "cell_type": "code",
   "execution_count": 135,
   "metadata": {},
   "outputs": [
    {
     "data": {
      "text/html": [
       "<div>\n",
       "<style scoped>\n",
       "    .dataframe tbody tr th:only-of-type {\n",
       "        vertical-align: middle;\n",
       "    }\n",
       "\n",
       "    .dataframe tbody tr th {\n",
       "        vertical-align: top;\n",
       "    }\n",
       "\n",
       "    .dataframe thead th {\n",
       "        text-align: right;\n",
       "    }\n",
       "</style>\n",
       "<table border=\"1\" class=\"dataframe\">\n",
       "  <thead>\n",
       "    <tr style=\"text-align: right;\">\n",
       "      <th></th>\n",
       "      <th>Recency</th>\n",
       "      <th>frequency</th>\n",
       "      <th>Monetary</th>\n",
       "      <th>R_quartile</th>\n",
       "      <th>F_quartile</th>\n",
       "      <th>M_quartile</th>\n",
       "    </tr>\n",
       "    <tr>\n",
       "      <th>customer_unique_id</th>\n",
       "      <th></th>\n",
       "      <th></th>\n",
       "      <th></th>\n",
       "      <th></th>\n",
       "      <th></th>\n",
       "      <th></th>\n",
       "    </tr>\n",
       "  </thead>\n",
       "  <tbody>\n",
       "    <tr>\n",
       "      <th>000329c0b406d30f7e92fbd6a88a009e</th>\n",
       "      <td>578</td>\n",
       "      <td>1</td>\n",
       "      <td>43.25</td>\n",
       "      <td>1</td>\n",
       "      <td>1</td>\n",
       "      <td>1</td>\n",
       "    </tr>\n",
       "    <tr>\n",
       "      <th>0003418b36ed466545169cac383b59b4</th>\n",
       "      <td>356</td>\n",
       "      <td>1</td>\n",
       "      <td>76.02</td>\n",
       "      <td>2</td>\n",
       "      <td>1</td>\n",
       "      <td>2</td>\n",
       "    </tr>\n",
       "    <tr>\n",
       "      <th>000446ff827ee6397d0f00816d6a1fb2</th>\n",
       "      <td>343</td>\n",
       "      <td>1</td>\n",
       "      <td>122.98</td>\n",
       "      <td>2</td>\n",
       "      <td>1</td>\n",
       "      <td>3</td>\n",
       "    </tr>\n",
       "    <tr>\n",
       "      <th>0004983adf3647e6c0bf708af02e94e4</th>\n",
       "      <td>359</td>\n",
       "      <td>1</td>\n",
       "      <td>38.78</td>\n",
       "      <td>2</td>\n",
       "      <td>1</td>\n",
       "      <td>1</td>\n",
       "    </tr>\n",
       "    <tr>\n",
       "      <th>0004e8eb194ba10ce76319ad18b09a5c</th>\n",
       "      <td>185</td>\n",
       "      <td>1</td>\n",
       "      <td>113.30</td>\n",
       "      <td>4</td>\n",
       "      <td>1</td>\n",
       "      <td>3</td>\n",
       "    </tr>\n",
       "  </tbody>\n",
       "</table>\n",
       "</div>"
      ],
      "text/plain": [
       "                                  Recency  frequency  Monetary  R_quartile  \\\n",
       "customer_unique_id                                                           \n",
       "000329c0b406d30f7e92fbd6a88a009e      578          1     43.25           1   \n",
       "0003418b36ed466545169cac383b59b4      356          1     76.02           2   \n",
       "000446ff827ee6397d0f00816d6a1fb2      343          1    122.98           2   \n",
       "0004983adf3647e6c0bf708af02e94e4      359          1     38.78           2   \n",
       "0004e8eb194ba10ce76319ad18b09a5c      185          1    113.30           4   \n",
       "\n",
       "                                  F_quartile  M_quartile  \n",
       "customer_unique_id                                        \n",
       "000329c0b406d30f7e92fbd6a88a009e           1           1  \n",
       "0003418b36ed466545169cac383b59b4           1           2  \n",
       "000446ff827ee6397d0f00816d6a1fb2           1           3  \n",
       "0004983adf3647e6c0bf708af02e94e4           1           1  \n",
       "0004e8eb194ba10ce76319ad18b09a5c           1           3  "
      ]
     },
     "execution_count": 135,
     "metadata": {},
     "output_type": "execute_result"
    }
   ],
   "source": [
    "# Recency, frequency,monetary score rated from 4 to 1, where 4 is good and 1 is bad\n",
    "#creating segmentation \n",
    "rfm_seg = rfm_df\n",
    "rfm_seg['R_quartile']= rfm_seg['Recency'].apply(rscore,args=('Recency',quantiles))\n",
    "rfm_seg['F_quartile']=rfm_seg['frequency'].apply(fmscore,args=('frequency',quantiles))\n",
    "rfm_seg['M_quartile']=rfm_seg['Monetary'].apply(fmscore,args=('Monetary',quantiles))\n",
    "rfm_seg.drop('RFM_Score',axis=1,inplace= True)\n",
    "rfm_seg.head()"
   ]
  },
  {
   "cell_type": "code",
   "execution_count": 137,
   "metadata": {},
   "outputs": [
    {
     "data": {
      "text/html": [
       "<div>\n",
       "<style scoped>\n",
       "    .dataframe tbody tr th:only-of-type {\n",
       "        vertical-align: middle;\n",
       "    }\n",
       "\n",
       "    .dataframe tbody tr th {\n",
       "        vertical-align: top;\n",
       "    }\n",
       "\n",
       "    .dataframe thead th {\n",
       "        text-align: right;\n",
       "    }\n",
       "</style>\n",
       "<table border=\"1\" class=\"dataframe\">\n",
       "  <thead>\n",
       "    <tr style=\"text-align: right;\">\n",
       "      <th></th>\n",
       "      <th>Recency</th>\n",
       "      <th>frequency</th>\n",
       "      <th>Monetary</th>\n",
       "      <th>R_quartile</th>\n",
       "      <th>F_quartile</th>\n",
       "      <th>M_quartile</th>\n",
       "      <th>RFM_Score</th>\n",
       "    </tr>\n",
       "    <tr>\n",
       "      <th>customer_unique_id</th>\n",
       "      <th></th>\n",
       "      <th></th>\n",
       "      <th></th>\n",
       "      <th></th>\n",
       "      <th></th>\n",
       "      <th></th>\n",
       "      <th></th>\n",
       "    </tr>\n",
       "  </thead>\n",
       "  <tbody>\n",
       "    <tr>\n",
       "      <th>000329c0b406d30f7e92fbd6a88a009e</th>\n",
       "      <td>578</td>\n",
       "      <td>1</td>\n",
       "      <td>43.25</td>\n",
       "      <td>1</td>\n",
       "      <td>1</td>\n",
       "      <td>1</td>\n",
       "      <td>111</td>\n",
       "    </tr>\n",
       "    <tr>\n",
       "      <th>0003418b36ed466545169cac383b59b4</th>\n",
       "      <td>356</td>\n",
       "      <td>1</td>\n",
       "      <td>76.02</td>\n",
       "      <td>2</td>\n",
       "      <td>1</td>\n",
       "      <td>2</td>\n",
       "      <td>212</td>\n",
       "    </tr>\n",
       "    <tr>\n",
       "      <th>000446ff827ee6397d0f00816d6a1fb2</th>\n",
       "      <td>343</td>\n",
       "      <td>1</td>\n",
       "      <td>122.98</td>\n",
       "      <td>2</td>\n",
       "      <td>1</td>\n",
       "      <td>3</td>\n",
       "      <td>213</td>\n",
       "    </tr>\n",
       "    <tr>\n",
       "      <th>0004983adf3647e6c0bf708af02e94e4</th>\n",
       "      <td>359</td>\n",
       "      <td>1</td>\n",
       "      <td>38.78</td>\n",
       "      <td>2</td>\n",
       "      <td>1</td>\n",
       "      <td>1</td>\n",
       "      <td>211</td>\n",
       "    </tr>\n",
       "    <tr>\n",
       "      <th>0004e8eb194ba10ce76319ad18b09a5c</th>\n",
       "      <td>185</td>\n",
       "      <td>1</td>\n",
       "      <td>113.30</td>\n",
       "      <td>4</td>\n",
       "      <td>1</td>\n",
       "      <td>3</td>\n",
       "      <td>413</td>\n",
       "    </tr>\n",
       "  </tbody>\n",
       "</table>\n",
       "</div>"
      ],
      "text/plain": [
       "                                  Recency  frequency  Monetary  R_quartile  \\\n",
       "customer_unique_id                                                           \n",
       "000329c0b406d30f7e92fbd6a88a009e      578          1     43.25           1   \n",
       "0003418b36ed466545169cac383b59b4      356          1     76.02           2   \n",
       "000446ff827ee6397d0f00816d6a1fb2      343          1    122.98           2   \n",
       "0004983adf3647e6c0bf708af02e94e4      359          1     38.78           2   \n",
       "0004e8eb194ba10ce76319ad18b09a5c      185          1    113.30           4   \n",
       "\n",
       "                                  F_quartile  M_quartile RFM_Score  \n",
       "customer_unique_id                                                  \n",
       "000329c0b406d30f7e92fbd6a88a009e           1           1       111  \n",
       "0003418b36ed466545169cac383b59b4           1           2       212  \n",
       "000446ff827ee6397d0f00816d6a1fb2           1           3       213  \n",
       "0004983adf3647e6c0bf708af02e94e4           1           1       211  \n",
       "0004e8eb194ba10ce76319ad18b09a5c           1           3       413  "
      ]
     },
     "execution_count": 137,
     "metadata": {},
     "output_type": "execute_result"
    }
   ],
   "source": [
    "rfm_seg['RFM_Score']= rfm_seg.R_quartile.map(str)+ rfm_seg.F_quartile.map(str)+ rfm_seg.M_quartile.map(str)\n",
    "rfm_seg.head()"
   ]
  },
  {
   "cell_type": "code",
   "execution_count": 138,
   "metadata": {},
   "outputs": [
    {
     "data": {
      "text/html": [
       "<div>\n",
       "<style scoped>\n",
       "    .dataframe tbody tr th:only-of-type {\n",
       "        vertical-align: middle;\n",
       "    }\n",
       "\n",
       "    .dataframe tbody tr th {\n",
       "        vertical-align: top;\n",
       "    }\n",
       "\n",
       "    .dataframe thead th {\n",
       "        text-align: right;\n",
       "    }\n",
       "</style>\n",
       "<table border=\"1\" class=\"dataframe\">\n",
       "  <thead>\n",
       "    <tr style=\"text-align: right;\">\n",
       "      <th></th>\n",
       "      <th>Recency</th>\n",
       "      <th>frequency</th>\n",
       "      <th>Monetary</th>\n",
       "      <th>R_quartile</th>\n",
       "      <th>F_quartile</th>\n",
       "      <th>M_quartile</th>\n",
       "      <th>RFM_Score</th>\n",
       "    </tr>\n",
       "    <tr>\n",
       "      <th>customer_unique_id</th>\n",
       "      <th></th>\n",
       "      <th></th>\n",
       "      <th></th>\n",
       "      <th></th>\n",
       "      <th></th>\n",
       "      <th></th>\n",
       "      <th></th>\n",
       "    </tr>\n",
       "  </thead>\n",
       "  <tbody>\n",
       "    <tr>\n",
       "      <th>0bb48ab7aed4523f1000795ccf17c5b3</th>\n",
       "      <td>88</td>\n",
       "      <td>2</td>\n",
       "      <td>3673.28</td>\n",
       "      <td>4</td>\n",
       "      <td>4</td>\n",
       "      <td>4</td>\n",
       "      <td>444</td>\n",
       "    </tr>\n",
       "    <tr>\n",
       "      <th>e6fc50c010cd8984acfa1bca3b291064</th>\n",
       "      <td>51</td>\n",
       "      <td>2</td>\n",
       "      <td>1842.48</td>\n",
       "      <td>4</td>\n",
       "      <td>4</td>\n",
       "      <td>4</td>\n",
       "      <td>444</td>\n",
       "    </tr>\n",
       "    <tr>\n",
       "      <th>ff69b7f704286aca669854ef37dd8c6e</th>\n",
       "      <td>168</td>\n",
       "      <td>2</td>\n",
       "      <td>1738.44</td>\n",
       "      <td>4</td>\n",
       "      <td>4</td>\n",
       "      <td>4</td>\n",
       "      <td>444</td>\n",
       "    </tr>\n",
       "    <tr>\n",
       "      <th>b703c34c200cfe077158a01814de0269</th>\n",
       "      <td>21</td>\n",
       "      <td>2</td>\n",
       "      <td>1738.18</td>\n",
       "      <td>4</td>\n",
       "      <td>4</td>\n",
       "      <td>4</td>\n",
       "      <td>444</td>\n",
       "    </tr>\n",
       "    <tr>\n",
       "      <th>6b69de2cdeb5fbfa59362c98f2c3c560</th>\n",
       "      <td>171</td>\n",
       "      <td>3</td>\n",
       "      <td>1727.60</td>\n",
       "      <td>4</td>\n",
       "      <td>4</td>\n",
       "      <td>4</td>\n",
       "      <td>444</td>\n",
       "    </tr>\n",
       "    <tr>\n",
       "      <th>d00e1fcbcaa7bf3cb0eb839df96bb2b5</th>\n",
       "      <td>21</td>\n",
       "      <td>2</td>\n",
       "      <td>1691.03</td>\n",
       "      <td>4</td>\n",
       "      <td>4</td>\n",
       "      <td>4</td>\n",
       "      <td>444</td>\n",
       "    </tr>\n",
       "    <tr>\n",
       "      <th>39053ca58f79587e170a3f31faa0dd2a</th>\n",
       "      <td>147</td>\n",
       "      <td>2</td>\n",
       "      <td>1655.24</td>\n",
       "      <td>4</td>\n",
       "      <td>4</td>\n",
       "      <td>4</td>\n",
       "      <td>444</td>\n",
       "    </tr>\n",
       "    <tr>\n",
       "      <th>7ab27f7aa7d004882db7afce02bff8c3</th>\n",
       "      <td>113</td>\n",
       "      <td>3</td>\n",
       "      <td>1568.62</td>\n",
       "      <td>4</td>\n",
       "      <td>4</td>\n",
       "      <td>4</td>\n",
       "      <td>444</td>\n",
       "    </tr>\n",
       "    <tr>\n",
       "      <th>4cc4fa5148dca9dd9570607562cffc0e</th>\n",
       "      <td>9</td>\n",
       "      <td>8</td>\n",
       "      <td>1550.97</td>\n",
       "      <td>4</td>\n",
       "      <td>4</td>\n",
       "      <td>4</td>\n",
       "      <td>444</td>\n",
       "    </tr>\n",
       "    <tr>\n",
       "      <th>1bc2b8d564ddb2fb94c6e2d893cdb0e5</th>\n",
       "      <td>75</td>\n",
       "      <td>2</td>\n",
       "      <td>1500.98</td>\n",
       "      <td>4</td>\n",
       "      <td>4</td>\n",
       "      <td>4</td>\n",
       "      <td>444</td>\n",
       "    </tr>\n",
       "  </tbody>\n",
       "</table>\n",
       "</div>"
      ],
      "text/plain": [
       "                                  Recency  frequency  Monetary  R_quartile  \\\n",
       "customer_unique_id                                                           \n",
       "0bb48ab7aed4523f1000795ccf17c5b3       88          2   3673.28           4   \n",
       "e6fc50c010cd8984acfa1bca3b291064       51          2   1842.48           4   \n",
       "ff69b7f704286aca669854ef37dd8c6e      168          2   1738.44           4   \n",
       "b703c34c200cfe077158a01814de0269       21          2   1738.18           4   \n",
       "6b69de2cdeb5fbfa59362c98f2c3c560      171          3   1727.60           4   \n",
       "d00e1fcbcaa7bf3cb0eb839df96bb2b5       21          2   1691.03           4   \n",
       "39053ca58f79587e170a3f31faa0dd2a      147          2   1655.24           4   \n",
       "7ab27f7aa7d004882db7afce02bff8c3      113          3   1568.62           4   \n",
       "4cc4fa5148dca9dd9570607562cffc0e        9          8   1550.97           4   \n",
       "1bc2b8d564ddb2fb94c6e2d893cdb0e5       75          2   1500.98           4   \n",
       "\n",
       "                                  F_quartile  M_quartile RFM_Score  \n",
       "customer_unique_id                                                  \n",
       "0bb48ab7aed4523f1000795ccf17c5b3           4           4       444  \n",
       "e6fc50c010cd8984acfa1bca3b291064           4           4       444  \n",
       "ff69b7f704286aca669854ef37dd8c6e           4           4       444  \n",
       "b703c34c200cfe077158a01814de0269           4           4       444  \n",
       "6b69de2cdeb5fbfa59362c98f2c3c560           4           4       444  \n",
       "d00e1fcbcaa7bf3cb0eb839df96bb2b5           4           4       444  \n",
       "39053ca58f79587e170a3f31faa0dd2a           4           4       444  \n",
       "7ab27f7aa7d004882db7afce02bff8c3           4           4       444  \n",
       "4cc4fa5148dca9dd9570607562cffc0e           4           4       444  \n",
       "1bc2b8d564ddb2fb94c6e2d893cdb0e5           4           4       444  "
      ]
     },
     "execution_count": 138,
     "metadata": {},
     "output_type": "execute_result"
    }
   ],
   "source": [
    "rfm_seg[rfm_seg['RFM_Score']=='444'].sort_values('Monetary', ascending= False).head(10)"
   ]
  },
  {
   "cell_type": "code",
   "execution_count": 140,
   "metadata": {},
   "outputs": [
    {
     "name": "stdout",
     "output_type": "stream",
     "text": [
      "Best Customers:  573\n",
      "Loyal Customers:  3330\n",
      "Big Spenders:  23124\n",
      "Almost Lost:  448\n",
      "Lost Customers:  271\n",
      "Lost Cheap Customers:  6332\n"
     ]
    }
   ],
   "source": [
    "print(\"Best Customers: \",len(rfm_seg[rfm_seg['RFM_Score']=='444']))\n",
    "print('Loyal Customers: ',len(rfm_seg[rfm_seg['F_quartile']==4]))\n",
    "print(\"Big Spenders: \",len(rfm_seg[rfm_seg['M_quartile']==4]))\n",
    "print('Almost Lost: ', len(rfm_seg[rfm_seg['RFM_Score']=='244']))\n",
    "print('Lost Customers: ',len(rfm_seg[rfm_seg['RFM_Score']=='144']))\n",
    "print('Lost Cheap Customers: ',len(rfm_seg[rfm_seg['RFM_Score']=='111']))"
   ]
  },
  {
   "cell_type": "code",
   "execution_count": 141,
   "metadata": {},
   "outputs": [
    {
     "data": {
      "text/plain": [
       "32"
      ]
     },
     "execution_count": 141,
     "metadata": {},
     "output_type": "execute_result"
    }
   ],
   "source": [
    "#rfm_plot=pd.DataFrame(rfm_seg.groupby('RFM_Score'),)\n",
    "rfm_seg['RFM_Score'].nunique()"
   ]
  },
  {
   "cell_type": "code",
   "execution_count": 154,
   "metadata": {},
   "outputs": [
    {
     "data": {
      "text/plain": [
       "Text(0,0.5,'Count')"
      ]
     },
     "execution_count": 154,
     "metadata": {},
     "output_type": "execute_result"
    },
    {
     "data": {
      "image/png": "[encoded data removed]",
      "text/plain": [
       "<Figure size 1080x792 with 1 Axes>"
      ]
     },
     "metadata": {
      "needs_background": "light"
     },
     "output_type": "display_data"
    }
   ],
   "source": [
    "# @hidden_cell\n",
    "rfm_plot=pd.DataFrame(rfm_seg.groupby('RFM_Score').agg({'RFM_Score':'count'}).rename(columns={'RFM_Score':'count'})).reset_index()\n",
    "#x1 = rfm_plot.RFM_Score.tolist()\n",
    "#y1 = rfm_plot.count.tolist()\n",
    "\n",
    "\n",
    "plt.figure(figsize=(15,11))\n",
    "ax=sns.barplot(x=x1,y='count',data=rfm_plot, color='#ed5569')\n",
    "ax.set_title(\"RFM_Count\")\n",
    "ax.set_xlabel('RFM_Score')\n",
    "ax.set_ylabel('Count')"
   ]
  },
  {
   "cell_type": "code",
   "execution_count": null,
   "metadata": {},
   "outputs": [],
   "source": []
  }
 ],
 "metadata": {
  "kernelspec": {
   "display_name": "Python 3",
   "language": "python",
   "name": "python3"
  },
  "language_info": {
   "codemirror_mode": {
    "name": "ipython",
    "version": 3
   },
   "file_extension": ".py",
   "mimetype": "text/x-python",
   "name": "python",
   "nbconvert_exporter": "python",
   "pygments_lexer": "ipython3",
   "version": "3.7.0"
  },
  "widgets": {
   "application/vnd.jupyter.widget-state+json": {
    "state": {},
    "version_major": 2,
    "version_minor": 0
   }
  }
 },
 "nbformat": 4,
 "nbformat_minor": 2
}
